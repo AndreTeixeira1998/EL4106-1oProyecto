{
 "cells": [
  {
   "cell_type": "code",
   "execution_count": 1,
   "metadata": {},
   "outputs": [],
   "source": [
    "import tensorflow.keras as keras"
   ]
  },
  {
   "cell_type": "code",
   "execution_count": 2,
   "metadata": {},
   "outputs": [
    {
     "name": "stdout",
     "output_type": "stream",
     "text": [
      "1.13.1\n"
     ]
    }
   ],
   "source": [
    "import tensorflow as tf\n",
    "\n",
    "print(tf.__version__)"
   ]
  },
  {
   "cell_type": "code",
   "execution_count": 3,
   "metadata": {},
   "outputs": [
    {
     "name": "stdout",
     "output_type": "stream",
     "text": [
      "[0 0 0 ... 0 0 0]\n",
      "(100000, 21, 21, 4)\n"
     ]
    }
   ],
   "source": [
    "import numpy as np\n",
    "import matplotlib.pyplot as plt\n",
    "import pickle\n",
    "\n",
    "samples= 5\n",
    "tipo = 3# np.random.randint(4)\n",
    "index_image = np.random.randint(100000)  #2\n",
    "\n",
    "\n",
    "# ========== EXTRACCIÓN DE DATOS ==============\n",
    "archivo = open('/home/endredra/Desktop/Int_proj/EL4106-1oProyecto/dataset/HiTS2013_100k_samples(4_channels)_images_labels.pkl',\"rb\")\n",
    "example_dict= pickle.load(archivo)\n",
    "print(example_dict['labels'])\n",
    "print(example_dict['images'].shape)"
   ]
  },
  {
   "cell_type": "code",
   "execution_count": 4,
   "metadata": {},
   "outputs": [
    {
     "name": "stdout",
     "output_type": "stream",
     "text": [
      "(75000, 21, 21)\n",
      "(25000, 21, 21)\n",
      "75000\n",
      "25000\n",
      "[0 0 0 1 1 0 1 0 0 1 1 0 0 0 0 1 0 0 1 0 0 1 0 0 0 1 0 1 0 0 1 1 1 1 1 0 1\n",
      " 0 0 0 0 0 1 0 0 1 1 0 1 1 1 0 1 0 1 1 1 0 1 1 1 0 0 0 1 0 0 0 0 0 0 1 1 1\n",
      " 1 0 1 1 0 1 1 0 0 1 1 1 0 1 0 1 1 0 1 1 1 1 1 1 0 0]\n"
     ]
    }
   ],
   "source": [
    "xx = example_dict['images'][:, :, :, tipo]\n",
    "yy= example_dict['labels']\n",
    "print(xx[:75000].shape)\n",
    "print(xx[75000:].shape)\n",
    "print(yy[:75000].shape[0])\n",
    "print(yy[75000:].shape[0])\n",
    "print(yy[:100])\n",
    "#database to train\n",
    "x_train=xx[:75000]\n",
    "y_train=yy[:75000]\n",
    "\n",
    "#database to test\n",
    "x_test=xx[75000:]\n",
    "y_test=yy[75000:]"
   ]
  },
  {
   "cell_type": "code",
   "execution_count": 5,
   "metadata": {},
   "outputs": [
    {
     "data": {
      "image/png": "[encoded data removed]",
      "text/plain": [
       "<Figure size 432x288 with 1 Axes>"
      ]
     },
     "metadata": {
      "needs_background": "light"
     },
     "output_type": "display_data"
    }
   ],
   "source": [
    "%matplotlib inline\n",
    "plt.imshow(x_train[0])#,cmap=plt.cm.binary)\n",
    "plt.show()"
   ]
  },
  {
   "cell_type": "code",
   "execution_count": 6,
   "metadata": {},
   "outputs": [
    {
     "name": "stdout",
     "output_type": "stream",
     "text": [
      "falso:  0\n"
     ]
    }
   ],
   "source": [
    "print('falso: ', y_train[0])"
   ]
  },
  {
   "cell_type": "code",
   "execution_count": 7,
   "metadata": {},
   "outputs": [
    {
     "data": {
      "image/png": "[encoded data removed]",
      "text/plain": [
       "<Figure size 432x288 with 1 Axes>"
      ]
     },
     "metadata": {
      "needs_background": "light"
     },
     "output_type": "display_data"
    }
   ],
   "source": [
    "%matplotlib inline\n",
    "plt.imshow(x_train[4])#,cmap=plt.cm.binary)\n",
    "plt.show()"
   ]
  },
  {
   "cell_type": "code",
   "execution_count": 8,
   "metadata": {},
   "outputs": [
    {
     "name": "stdout",
     "output_type": "stream",
     "text": [
      "positivo:  1\n"
     ]
    }
   ],
   "source": [
    "print('positivo: ', y_train[4])"
   ]
  },
  {
   "cell_type": "code",
   "execution_count": 11,
   "metadata": {},
   "outputs": [],
   "source": [
    "############ modelo #################\n",
    "\n",
    "model = tf.keras.models.Sequential()\n",
    "\n",
    "#capas\n",
    "\n",
    "model.add(tf.keras.layers.Flatten())\n",
    "model.add(tf.keras.layers.Dense(128, activation=tf.nn.relu))\n",
    "model.add(tf.keras.layers.Dense(128, activation=tf.nn.relu))\n",
    "model.add(tf.keras.layers.Dense(2, activation=tf.nn.softmax))\n",
    "\n",
    "#compile\n",
    "model.compile(optimizer='adam',\n",
    "              loss='sparse_categorical_crossentropy',\n",
    "              metrics=['accuracy'])"
   ]
  },
  {
   "cell_type": "code",
   "execution_count": 12,
   "metadata": {},
   "outputs": [
    {
     "name": "stdout",
     "output_type": "stream",
     "text": [
      "Epoch 1/3\n",
      "75000/75000 [==============================] - 6s 78us/sample - loss: 0.2100 - acc: 0.9172\n",
      "Epoch 2/3\n",
      "75000/75000 [==============================] - 5s 73us/sample - loss: 0.1589 - acc: 0.9412\n",
      "Epoch 3/3\n",
      "75000/75000 [==============================] - 5s 73us/sample - loss: 0.1443 - acc: 0.9479\n"
     ]
    },
    {
     "data": {
      "text/plain": [
       "<tensorflow.python.keras.callbacks.History at 0x7f617b57da58>"
      ]
     },
     "execution_count": 12,
     "metadata": {},
     "output_type": "execute_result"
    }
   ],
   "source": [
    "#entrenar\n",
    "epocas=3\n",
    "\n",
    "model.fit(x_train, y_train, epochs=epocas)"
   ]
  },
  {
   "cell_type": "code",
   "execution_count": 21,
   "metadata": {},
   "outputs": [
    {
     "name": "stdout",
     "output_type": "stream",
     "text": [
      "25000/25000 [==============================] - 1s 26us/sample - loss: 0.1626 - acc: 0.9374\n",
      "\n",
      "\n",
      "Loss: 16.262631972670555 %\n",
      "\n",
      "\n",
      "Accuracy: 93.73999834060669 %\n",
      "\n",
      "\n"
     ]
    }
   ],
   "source": [
    "val_loss, val_acc = model.evaluate(x_test, y_test)\n",
    "print('\\n\\nLoss:', val_loss*100,'%\\n\\n')\n",
    "print('Accuracy:', val_acc*100,'%\\n\\n')"
   ]
  },
  {
   "cell_type": "code",
   "execution_count": 14,
   "metadata": {},
   "outputs": [],
   "source": [
    "model.save('super_nova_class.model')"
   ]
  },
  {
   "cell_type": "code",
   "execution_count": 15,
   "metadata": {},
   "outputs": [
    {
     "name": "stdout",
     "output_type": "stream",
     "text": [
      "WARNING:tensorflow:Sequential models without an `input_shape` passed to the first layer cannot reload their optimizer state. As a result, your model isstarting with a freshly initialized optimizer.\n"
     ]
    }
   ],
   "source": [
    "new_model = tf.keras.models.load_model('super_nova_class.model')"
   ]
  },
  {
   "cell_type": "code",
   "execution_count": 16,
   "metadata": {},
   "outputs": [
    {
     "name": "stdout",
     "output_type": "stream",
     "text": [
      "[[3.3754292e-01 6.6245711e-01]\n",
      " [8.5743153e-03 9.9142563e-01]\n",
      " [7.1257330e-02 9.2874265e-01]\n",
      " ...\n",
      " [9.5104295e-01 4.8956975e-02]\n",
      " [9.9999046e-01 9.5140731e-06]\n",
      " [9.9999976e-01 2.1446731e-07]]\n"
     ]
    }
   ],
   "source": [
    "predictions = new_model.predict(x_test)\n",
    "print(predictions)"
   ]
  },
  {
   "cell_type": "code",
   "execution_count": 17,
   "metadata": {},
   "outputs": [
    {
     "name": "stdout",
     "output_type": "stream",
     "text": [
      "prediction:  1  -----  true class:  1\n",
      "prediction:  1  -----  true class:  1\n",
      "prediction:  1  -----  true class:  1\n",
      "prediction:  0  -----  true class:  0\n",
      "prediction:  0  -----  true class:  0\n",
      "prediction:  1  -----  true class:  1\n",
      "prediction:  1  -----  true class:  1\n",
      "prediction:  0  -----  true class:  0\n",
      "prediction:  0  -----  true class:  0\n",
      "prediction:  0  -----  true class:  0\n",
      "prediction:  1  -----  true class:  1\n",
      "prediction:  1  -----  true class:  1\n",
      "prediction:  0  -----  true class:  0\n",
      "prediction:  1  -----  true class:  1\n",
      "prediction:  0  -----  true class:  0\n",
      "prediction:  1  -----  true class:  1\n",
      "prediction:  0  -----  true class:  0\n",
      "prediction:  1  -----  true class:  1\n",
      "prediction:  0  -----  true class:  0\n",
      "prediction:  0  -----  true class:  0\n"
     ]
    }
   ],
   "source": [
    "for i in range(20):\n",
    "    print('prediction: ',np.argmax(predictions[i]), ' -----  true class: ', y_test[i])\n",
    "    "
   ]
  },
  {
   "cell_type": "code",
   "execution_count": 26,
   "metadata": {},
   "outputs": [
    {
     "data": {
      "image/png": "[encoded data removed]",
      "text/plain": [
       "<Figure size 432x288 with 1 Axes>"
      ]
     },
     "metadata": {
      "needs_background": "light"
     },
     "output_type": "display_data"
    },
    {
     "name": "stdout",
     "output_type": "stream",
     "text": [
      " imagem: 0 ----- tipo: 3 ----- class: 1 ----- prediction: 1 \n"
     ]
    }
   ],
   "source": [
    "%matplotlib inline\n",
    "index_img=0\n",
    "plt.figure(\"imagem: {} , tipo: {} , class: {}\".format(index_img, tipo, y_test[index_img]))\n",
    "plt.imshow(x_test[0])#,cmap=plt.cm.binary)\n",
    "\n",
    "\n",
    "plt.show()\n",
    "print(\" imagem: {} ----- tipo: {} ----- class: {} ----- prediction: {} \".format(index_img, tipo, y_test[index_img], np.argmax(predictions[index_img])))\n"
   ]
  },
  {
   "cell_type": "code",
   "execution_count": 63,
   "metadata": {},
   "outputs": [
    {
     "name": "stdout",
     "output_type": "stream",
     "text": [
      "prediction test:  [[0.20188943 0.79811054]]\n",
      "prediction class test:  1 percentage:  79.81 %\n"
     ]
    }
   ],
   "source": [
    "imagene_index=50\n",
    "\n",
    "\n",
    "test_predict = model.predict(x_test[imagene_index:imagene_index+1])\n",
    "print('prediction test: ', test_predict)\n",
    "print('prediction class test: ', np.argmax(test_predict), 'percentage: ', \"%.2f\" % (test_predict[0][np.argmax(test_predict)]*100), '%')"
   ]
  },
  {
   "cell_type": "code",
   "execution_count": null,
   "metadata": {},
   "outputs": [],
   "source": []
  }
 ],
 "metadata": {
  "kernelspec": {
   "display_name": "Python 3",
   "language": "python",
   "name": "python3"
  },
  "language_info": {
   "codemirror_mode": {
    "name": "ipython",
    "version": 3
   },
   "file_extension": ".py",
   "mimetype": "text/x-python",
   "name": "python",
   "nbconvert_exporter": "python",
   "pygments_lexer": "ipython3",
   "version": "3.7.3"
  }
 },
 "nbformat": 4,
 "nbformat_minor": 2
}
