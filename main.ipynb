{
 "cells": [
  {
   "cell_type": "code",
   "execution_count": 1,
   "metadata": {},
   "outputs": [
    {
     "name": "stderr",
     "output_type": "stream",
     "text": [
      "Using TensorFlow backend.\n"
     ]
    }
   ],
   "source": [
    "import tensorflow.keras as keras\n",
    "\n",
    "from keras.preprocessing.image import ImageDataGenerator\n",
    "from keras.models import Sequential\n",
    "from keras.layers import Conv2D, MaxPooling2D\n",
    "from keras.layers import Activation, Dropout, Flatten, Dense\n",
    "from keras import backend as K"
   ]
  },
  {
   "cell_type": "code",
   "execution_count": 2,
   "metadata": {},
   "outputs": [],
   "source": [
    "from sklearn.metrics import confusion_matrix\n",
    "import itertools"
   ]
  },
  {
   "cell_type": "code",
   "execution_count": 3,
   "metadata": {},
   "outputs": [
    {
     "name": "stdout",
     "output_type": "stream",
     "text": [
      "1.13.1\n"
     ]
    }
   ],
   "source": [
    "import tensorflow as tf\n",
    "\n",
    "print(tf.__version__)"
   ]
  },
  {
   "cell_type": "code",
   "execution_count": 4,
   "metadata": {},
   "outputs": [
    {
     "name": "stdout",
     "output_type": "stream",
     "text": [
      "(100000,)\n",
      "(100000, 21, 21, 4)\n"
     ]
    }
   ],
   "source": [
    "import numpy as np\n",
    "import matplotlib.pyplot as plt\n",
    "import pickle\n",
    "\n",
    "samples= 5\n",
    "tipo = 3    # np.random.randint(4)\n",
    "index_image = np.random.randint(100000)  \n",
    "\n",
    "\n",
    "# ========== EXTRACCIÓN DE DATOS ==============\n",
    "archivo = open('/home/endredra/Desktop/Int_proj/EL4106-1oProyecto/dataset/HiTS2013_100k_samples(4_channels)_images_labels.pkl',\"rb\")\n",
    "example_dict= pickle.load(archivo)\n",
    "print(example_dict['labels'].shape)\n",
    "print(example_dict['images'].shape)"
   ]
  },
  {
   "cell_type": "code",
   "execution_count": 5,
   "metadata": {},
   "outputs": [
    {
     "name": "stdout",
     "output_type": "stream",
     "text": [
      "(75000, 21, 21)\n",
      "(25000, 21, 21)\n",
      "75000\n",
      "25000\n",
      "[0 0 0 1 1 0 1 0 0 1 1 0 0 0 0 1 0 0 1 0 0 1 0 0 0 1 0 1 0 0 1 1 1 1 1 0 1\n",
      " 0 0 0 0 0 1 0 0 1 1 0 1 1 1 0 1 0 1 1 1 0 1 1 1 0 0 0 1 0 0 0 0 0 0 1 1 1\n",
      " 1 0 1 1 0 1 1 0 0 1 1 1 0 1 0 1 1 0 1 1 1 1 1 1 0 0]\n",
      "\n",
      "\n",
      "input_shape:  21 x 21\n"
     ]
    }
   ],
   "source": [
    "xx = example_dict['images'][:, :, :, tipo]\n",
    "yy= example_dict['labels']\n",
    "print(xx[:75000].shape)\n",
    "print(xx[75000:].shape)\n",
    "print(yy[:75000].shape[0])\n",
    "print(yy[75000:].shape[0])\n",
    "print(yy[:100])\n",
    "#database to train\n",
    "x_train=xx[:75000]\n",
    "y_train=yy[:75000]\n",
    "\n",
    "#database to test\n",
    "x_test=xx[75000:]\n",
    "y_test=yy[75000:]\n",
    "\n",
    "\n",
    "input_shape1=x_test.shape[1]\n",
    "input_shape2=x_test.shape[2]\n",
    "print('\\n\\ninput_shape: ' , input_shape1, 'x', input_shape2)\n",
    "\n",
    "input_shape = (input_shape1, input_shape2, 1)"
   ]
  },
  {
   "cell_type": "code",
   "execution_count": 6,
   "metadata": {},
   "outputs": [
    {
     "data": {
      "image/png": "[encoded data removed]",
      "text/plain": [
       "<Figure size 432x288 with 1 Axes>"
      ]
     },
     "metadata": {
      "needs_background": "light"
     },
     "output_type": "display_data"
    }
   ],
   "source": [
    "%matplotlib inline\n",
    "plt.imshow(x_train[0])#,cmap=plt.cm.binary)\n",
    "plt.show()"
   ]
  },
  {
   "cell_type": "code",
   "execution_count": 7,
   "metadata": {},
   "outputs": [
    {
     "name": "stdout",
     "output_type": "stream",
     "text": [
      "falso:  0\n"
     ]
    }
   ],
   "source": [
    "print('falso: ', y_train[0])"
   ]
  },
  {
   "cell_type": "code",
   "execution_count": 8,
   "metadata": {},
   "outputs": [
    {
     "data": {
      "image/png": "[encoded data removed]",
      "text/plain": [
       "<Figure size 432x288 with 1 Axes>"
      ]
     },
     "metadata": {
      "needs_background": "light"
     },
     "output_type": "display_data"
    }
   ],
   "source": [
    "%matplotlib inline\n",
    "plt.imshow(x_train[4])#,cmap=plt.cm.binary)\n",
    "plt.show()"
   ]
  },
  {
   "cell_type": "code",
   "execution_count": 9,
   "metadata": {},
   "outputs": [
    {
     "name": "stdout",
     "output_type": "stream",
     "text": [
      "positivo:  1\n"
     ]
    }
   ],
   "source": [
    "print('positivo: ', y_train[4])"
   ]
  },
  {
   "cell_type": "code",
   "execution_count": 10,
   "metadata": {},
   "outputs": [],
   "source": [
    "# Reshape the images.\n",
    "r_x_train= np.expand_dims(x_train, axis=3)\n",
    "r_x_test = np.expand_dims(x_test, axis=3)"
   ]
  },
  {
   "cell_type": "code",
   "execution_count": 11,
   "metadata": {},
   "outputs": [
    {
     "name": "stdout",
     "output_type": "stream",
     "text": [
      "WARNING:tensorflow:From /home/endredra/anaconda3/lib/python3.7/site-packages/tensorflow/python/framework/op_def_library.py:263: colocate_with (from tensorflow.python.framework.ops) is deprecated and will be removed in a future version.\n",
      "Instructions for updating:\n",
      "Colocations handled automatically by placer.\n",
      "WARNING:tensorflow:From /home/endredra/anaconda3/lib/python3.7/site-packages/keras/backend/tensorflow_backend.py:3445: calling dropout (from tensorflow.python.ops.nn_ops) with keep_prob is deprecated and will be removed in a future version.\n",
      "Instructions for updating:\n",
      "Please use `rate` instead of `keep_prob`. Rate should be set to `rate = 1 - keep_prob`.\n"
     ]
    }
   ],
   "source": [
    "############ modelo MLP #################\n",
    "\n",
    "#model = tf.keras.models.Sequential()\n",
    " \n",
    "#capas\n",
    "\n",
    "#model.add(tf.keras.layers.Flatten())\n",
    "#model.add(tf.keras.layers.Dense(128, activation=tf.nn.relu))\n",
    "#model.add(tf.keras.layers.Dense(128, activation=tf.nn.relu))\n",
    "#model.add(tf.keras.layers.Dense(2, activation=tf.nn.softmax))\n",
    "\n",
    "\n",
    "############ modelo Conv test #################\n",
    "\n",
    "\n",
    "#model = Sequential()\n",
    "#model.add(Conv2D(32, (3, 3), input_shape=input_shape))\n",
    "#model.add(Activation('relu'))\n",
    "#model.add(MaxPooling2D(pool_size=(2, 2)))\n",
    "\n",
    "#model.add(Conv2D(32, (3, 3)))\n",
    "#model.add(Activation('relu'))\n",
    "#model.add(MaxPooling2D(pool_size=(2, 2)))\n",
    "\n",
    "\n",
    "#model.add(Flatten())\n",
    "#model.add(Dense(32))\n",
    "#model.add(Activation('relu'))\n",
    "#model.add(Dropout(0.5))\n",
    "#model.add(Dense(2))\n",
    "#model.add(Activation('softmax'))\n",
    "\n",
    "\n",
    "############ modelo Conv Keras #################\n",
    "\n",
    "\n",
    "#model = Sequential([\n",
    "#  Conv2D(num_filters, filter_size, input_shape=input_shape),\n",
    "#  MaxPooling2D(pool_size=pool_size),\n",
    "#  Flatten(),\n",
    "#  Dense(10, activation='softmax'),\n",
    "#])\n",
    "\n",
    "\n",
    "#########################################################\n",
    "##                    Sin Zero Padding                 ##      \n",
    "#########################################################\n",
    "##    21x21x1 -> 19x19x8 -> 9x9x8 -> FC=10 -> FC=2     ##\n",
    "#########################################################\n",
    "\n",
    "\n",
    "#########################################################\n",
    "##                    Con Zero Padding                 ##\n",
    "#########################################################\n",
    "##    21x21x1 -> 21x21x8 -> 10x10x8 -> FC=10 -> FC=2   ##\n",
    "#########################################################\n",
    "\n",
    "\n",
    "num_filters = 8  #profundidad\n",
    "filter_size = 3  #3x3 filter (conv3)\n",
    "pool_size = 2    # Max Pooling de 2\n",
    "\n",
    "model = Sequential([\n",
    "  Conv2D(num_filters, filter_size, padding='same', input_shape=input_shape),\n",
    "  MaxPooling2D(pool_size=pool_size),\n",
    "])\n",
    "\n",
    "model.add(Flatten())\n",
    "model.add(Dense(10))\n",
    "model.add(Activation('relu'))\n",
    "model.add(Dropout(0.5))\n",
    "model.add(Dense(2))\n",
    "model.add(Activation('softmax'))\n",
    "\n",
    "#model.summary()\n",
    "#compile\n",
    "model.compile(optimizer='adam',\n",
    "              loss='sparse_categorical_crossentropy',\n",
    "              metrics=['accuracy'])"
   ]
  },
  {
   "cell_type": "code",
   "execution_count": 12,
   "metadata": {},
   "outputs": [
    {
     "name": "stdout",
     "output_type": "stream",
     "text": [
      "_________________________________________________________________\n",
      "Layer (type)                 Output Shape              Param #   \n",
      "=================================================================\n",
      "conv2d_1 (Conv2D)            (None, 21, 21, 8)         80        \n",
      "_________________________________________________________________\n",
      "max_pooling2d_1 (MaxPooling2 (None, 10, 10, 8)         0         \n",
      "_________________________________________________________________\n",
      "flatten_1 (Flatten)          (None, 800)               0         \n",
      "_________________________________________________________________\n",
      "dense_1 (Dense)              (None, 10)                8010      \n",
      "_________________________________________________________________\n",
      "activation_1 (Activation)    (None, 10)                0         \n",
      "_________________________________________________________________\n",
      "dropout_1 (Dropout)          (None, 10)                0         \n",
      "_________________________________________________________________\n",
      "dense_2 (Dense)              (None, 2)                 22        \n",
      "_________________________________________________________________\n",
      "activation_2 (Activation)    (None, 2)                 0         \n",
      "=================================================================\n",
      "Total params: 8,112\n",
      "Trainable params: 8,112\n",
      "Non-trainable params: 0\n",
      "_________________________________________________________________\n"
     ]
    }
   ],
   "source": [
    "model.summary()"
   ]
  },
  {
   "cell_type": "code",
   "execution_count": 13,
   "metadata": {},
   "outputs": [
    {
     "name": "stdout",
     "output_type": "stream",
     "text": [
      "WARNING:tensorflow:From /home/endredra/anaconda3/lib/python3.7/site-packages/tensorflow/python/ops/math_ops.py:3066: to_int32 (from tensorflow.python.ops.math_ops) is deprecated and will be removed in a future version.\n",
      "Instructions for updating:\n",
      "Use tf.cast instead.\n",
      "Train on 56250 samples, validate on 18750 samples\n",
      "Epoch 1/30\n",
      "56250/56250 [==============================] - 16s 279us/step - loss: 0.2341 - acc: 0.9122 - val_loss: 0.1387 - val_acc: 0.9519\n",
      "Epoch 2/30\n",
      "56250/56250 [==============================] - 15s 262us/step - loss: 0.1694 - acc: 0.9416 - val_loss: 0.1347 - val_acc: 0.9534\n",
      "Epoch 3/30\n",
      "56250/56250 [==============================] - 15s 274us/step - loss: 0.1607 - acc: 0.9455 - val_loss: 0.1684 - val_acc: 0.9425\n",
      "Epoch 4/30\n",
      "56250/56250 [==============================] - 15s 263us/step - loss: 0.1545 - acc: 0.9484 - val_loss: 0.1598 - val_acc: 0.9487\n",
      "Epoch 5/30\n",
      "56250/56250 [==============================] - 15s 264us/step - loss: 0.1488 - acc: 0.9510 - val_loss: 0.1289 - val_acc: 0.9559\n",
      "Epoch 6/30\n",
      "56250/56250 [==============================] - 15s 268us/step - loss: 0.1505 - acc: 0.9512 - val_loss: 0.1330 - val_acc: 0.9570\n",
      "Epoch 7/30\n",
      "56250/56250 [==============================] - 15s 266us/step - loss: 0.1474 - acc: 0.9524 - val_loss: 0.1344 - val_acc: 0.9562\n",
      "Epoch 8/30\n",
      "56250/56250 [==============================] - 15s 268us/step - loss: 0.1451 - acc: 0.9527 - val_loss: 0.1329 - val_acc: 0.9565\n",
      "Epoch 9/30\n",
      "56250/56250 [==============================] - 15s 270us/step - loss: 0.1434 - acc: 0.9530 - val_loss: 0.1285 - val_acc: 0.9563\n",
      "Epoch 10/30\n",
      "56250/56250 [==============================] - 16s 280us/step - loss: 0.1413 - acc: 0.9534 - val_loss: 0.1265 - val_acc: 0.9574\n",
      "Epoch 11/30\n",
      "56250/56250 [==============================] - 15s 270us/step - loss: 0.1422 - acc: 0.9540 - val_loss: 0.1279 - val_acc: 0.9564\n",
      "Epoch 12/30\n",
      "56250/56250 [==============================] - 15s 274us/step - loss: 0.1385 - acc: 0.9556 - val_loss: 0.1279 - val_acc: 0.9565\n",
      "Epoch 13/30\n",
      "56250/56250 [==============================] - 16s 276us/step - loss: 0.1388 - acc: 0.9543 - val_loss: 0.1304 - val_acc: 0.9570\n",
      "Epoch 14/30\n",
      "56250/56250 [==============================] - 16s 276us/step - loss: 0.1372 - acc: 0.9554 - val_loss: 0.1411 - val_acc: 0.9545\n",
      "Epoch 15/30\n",
      "56250/56250 [==============================] - 15s 275us/step - loss: 0.1378 - acc: 0.9553 - val_loss: 0.1297 - val_acc: 0.9554\n",
      "Epoch 16/30\n",
      "56250/56250 [==============================] - 16s 277us/step - loss: 0.1360 - acc: 0.9566 - val_loss: 0.1284 - val_acc: 0.9567\n",
      "Epoch 17/30\n",
      "56250/56250 [==============================] - 16s 281us/step - loss: 0.1339 - acc: 0.9569 - val_loss: 0.1298 - val_acc: 0.9575\n",
      "Epoch 18/30\n",
      "56250/56250 [==============================] - 16s 287us/step - loss: 0.1336 - acc: 0.9577 - val_loss: 0.1294 - val_acc: 0.9566\n",
      "Epoch 19/30\n",
      "56250/56250 [==============================] - 16s 281us/step - loss: 0.1323 - acc: 0.9576 - val_loss: 0.1459 - val_acc: 0.9551\n",
      "Epoch 20/30\n",
      "56250/56250 [==============================] - 16s 283us/step - loss: 0.1323 - acc: 0.9582 - val_loss: 0.1293 - val_acc: 0.9575\n",
      "Epoch 21/30\n",
      "56250/56250 [==============================] - 16s 286us/step - loss: 0.1327 - acc: 0.9582 - val_loss: 0.1295 - val_acc: 0.9572\n",
      "Epoch 22/30\n",
      "56250/56250 [==============================] - 16s 289us/step - loss: 0.1288 - acc: 0.9597 - val_loss: 0.1334 - val_acc: 0.9570\n",
      "Epoch 23/30\n",
      "56250/56250 [==============================] - 16s 284us/step - loss: 0.1303 - acc: 0.9588 - val_loss: 0.1297 - val_acc: 0.9580\n",
      "Epoch 24/30\n",
      "56250/56250 [==============================] - 16s 287us/step - loss: 0.1300 - acc: 0.9594 - val_loss: 0.1300 - val_acc: 0.9567\n",
      "Epoch 25/30\n",
      "56250/56250 [==============================] - 16s 287us/step - loss: 0.1283 - acc: 0.9593 - val_loss: 0.1348 - val_acc: 0.9571\n",
      "Epoch 26/30\n",
      "56250/56250 [==============================] - 16s 292us/step - loss: 0.1302 - acc: 0.9587 - val_loss: 0.1271 - val_acc: 0.9579\n",
      "Epoch 27/30\n",
      "56250/56250 [==============================] - 16s 281us/step - loss: 0.1287 - acc: 0.9595 - val_loss: 0.1291 - val_acc: 0.9566\n",
      "Epoch 28/30\n",
      "56250/56250 [==============================] - 16s 286us/step - loss: 0.1264 - acc: 0.9607 - val_loss: 0.1313 - val_acc: 0.9573\n",
      "Epoch 29/30\n",
      "56250/56250 [==============================] - 16s 282us/step - loss: 0.1280 - acc: 0.9604 - val_loss: 0.1345 - val_acc: 0.9574\n",
      "Epoch 30/30\n",
      "56250/56250 [==============================] - 17s 294us/step - loss: 0.1247 - acc: 0.9615 - val_loss: 0.1296 - val_acc: 0.9567\n"
     ]
    }
   ],
   "source": [
    "#entrenar\n",
    "epocas=30\n",
    "\n",
    "history = model.fit(r_x_train, y_train, validation_split=0.25, batch_size=10, epochs=epocas)\n",
    "\n"
   ]
  },
  {
   "cell_type": "code",
   "execution_count": 14,
   "metadata": {},
   "outputs": [
    {
     "name": "stdout",
     "output_type": "stream",
     "text": [
      "25000/25000 [==============================] - 2s 75us/step\n",
      "\n",
      "\n",
      "Loss: 12.551713030576705 %\n",
      "\n",
      "\n",
      "Accuracy: 96.056 %\n",
      "\n",
      "\n"
     ]
    }
   ],
   "source": [
    "val_loss, val_acc = model.evaluate(r_x_test, y_test)\n",
    "print('\\n\\nLoss:', val_loss*100,'%\\n\\n')\n",
    "print('Accuracy:', val_acc*100,'%\\n\\n')"
   ]
  },
  {
   "cell_type": "code",
   "execution_count": 15,
   "metadata": {},
   "outputs": [],
   "source": [
    "model.save('super_nova_class.model')"
   ]
  },
  {
   "cell_type": "code",
   "execution_count": 16,
   "metadata": {},
   "outputs": [],
   "source": [
    "new_model = tf.keras.models.load_model('super_nova_class.model')"
   ]
  },
  {
   "cell_type": "code",
   "execution_count": 17,
   "metadata": {},
   "outputs": [
    {
     "name": "stdout",
     "output_type": "stream",
     "text": [
      "[[7.0352770e-02 9.2964727e-01]\n",
      " [1.8722981e-02 9.8127705e-01]\n",
      " [5.8858588e-02 9.4114143e-01]\n",
      " ...\n",
      " [9.9989128e-01 1.0874365e-04]\n",
      " [1.0000000e+00 8.1108502e-11]\n",
      " [1.0000000e+00 6.1005633e-13]]\n"
     ]
    }
   ],
   "source": [
    "predictions_t = new_model.predict(r_x_test, batch_size=10)\n",
    "print(predictions_t)"
   ]
  },
  {
   "cell_type": "code",
   "execution_count": 18,
   "metadata": {},
   "outputs": [
    {
     "name": "stdout",
     "output_type": "stream",
     "text": [
      "prediction:  1  -----  true class:  1\n",
      "prediction:  1  -----  true class:  1\n",
      "prediction:  1  -----  true class:  1\n",
      "prediction:  0  -----  true class:  0\n",
      "prediction:  0  -----  true class:  0\n",
      "prediction:  1  -----  true class:  1\n",
      "prediction:  1  -----  true class:  1\n",
      "prediction:  1  -----  true class:  0\n",
      "prediction:  0  -----  true class:  0\n",
      "prediction:  0  -----  true class:  0\n",
      "prediction:  1  -----  true class:  1\n",
      "prediction:  1  -----  true class:  1\n",
      "prediction:  0  -----  true class:  0\n",
      "prediction:  1  -----  true class:  1\n",
      "prediction:  0  -----  true class:  0\n",
      "prediction:  1  -----  true class:  1\n",
      "prediction:  0  -----  true class:  0\n",
      "prediction:  1  -----  true class:  1\n",
      "prediction:  0  -----  true class:  0\n",
      "prediction:  0  -----  true class:  0\n"
     ]
    }
   ],
   "source": [
    "for i in range(20):\n",
    "    print('prediction: ',np.argmax(predictions_t[i]), ' -----  true class: ', y_test[i])\n",
    "    "
   ]
  },
  {
   "cell_type": "code",
   "execution_count": 19,
   "metadata": {},
   "outputs": [
    {
     "name": "stdout",
     "output_type": "stream",
     "text": [
      "predict  [1 1 1 0 0 1 1 1 0 0 1 1 0 1 0 1 0 1 0 0 1 0 1 0 0 0 1 1 0 0]\n",
      "class:   [1 1 1 0 0 1 1 0 0 0 1 1 0 1 0 1 0 1 0 0 1 0 1 0 0 0 1 1 0 0]\n"
     ]
    }
   ],
   "source": [
    "Samples=30\n",
    "\n",
    "# Predict on the first 5 test images.\n",
    "predictions = model.predict(r_x_test[:Samples], batch_size=10)\n",
    "\n",
    "\n",
    "#r=range(Samples)\n",
    "#l = [*r]\n",
    "#print (l[:Samples])\n",
    "\n",
    "# Print our model's predictions.\n",
    "print('predict ', np.argmax(predictions, axis=1)) \n",
    "\n",
    "# Check our predictions against the ground truths.\n",
    "print('class:  ', y_test[:Samples])\n",
    "\n"
   ]
  },
  {
   "cell_type": "code",
   "execution_count": 20,
   "metadata": {},
   "outputs": [
    {
     "data": {
      "image/png": "[encoded data removed]",
      "text/plain": [
       "<Figure size 432x288 with 1 Axes>"
      ]
     },
     "metadata": {
      "needs_background": "light"
     },
     "output_type": "display_data"
    },
    {
     "name": "stdout",
     "output_type": "stream",
     "text": [
      " imagem: 3 ----- tipo: 3 ----- class: 0 ----- prediction: 0 \n"
     ]
    }
   ],
   "source": [
    "%matplotlib inline\n",
    "index_img=3\n",
    "plt.figure(\"imagem: {} , tipo: {} , class: {}\".format(index_img, tipo, y_test[index_img]))\n",
    "plt.imshow(x_test[0])#,cmap=plt.cm.binary)\n",
    "\n",
    "\n",
    "plt.show()\n",
    "print(\" imagem: {} ----- tipo: {} ----- class: {} ----- prediction: {} \".format(index_img, tipo, y_test[index_img], np.argmax(predictions[index_img])))\n"
   ]
  },
  {
   "cell_type": "code",
   "execution_count": 21,
   "metadata": {},
   "outputs": [
    {
     "name": "stdout",
     "output_type": "stream",
     "text": [
      "prediction test:  [[0.7960714  0.20392859]]\n",
      "prediction class test:  0 percentage:  79.61 %\n",
      "acertou!\n"
     ]
    }
   ],
   "source": [
    "imagene_index=3\n",
    "\n",
    "\n",
    "test_predict = model.predict(r_x_test[imagene_index:imagene_index+1], batch_size=10)\n",
    "print('prediction test: ', test_predict)\n",
    "print('prediction class test: ', np.argmax(test_predict), 'percentage: ', \"%.2f\" % (test_predict[0][np.argmax(test_predict)]*100), '%')\n",
    "\n",
    "if(np.argmax(test_predict)==y_test[imagene_index]):\n",
    "    print('acertou!')\n",
    "else:\n",
    "    print('errou!')\n"
   ]
  },
  {
   "cell_type": "code",
   "execution_count": 22,
   "metadata": {},
   "outputs": [
    {
     "data": {
      "text/plain": [
       "(21, 21, 1)"
      ]
     },
     "execution_count": 22,
     "metadata": {},
     "output_type": "execute_result"
    }
   ],
   "source": [
    "r_x_train[0].shape"
   ]
  },
  {
   "cell_type": "code",
   "execution_count": 23,
   "metadata": {},
   "outputs": [
    {
     "data": {
      "text/plain": [
       "(21, 21)"
      ]
     },
     "execution_count": 23,
     "metadata": {},
     "output_type": "execute_result"
    }
   ],
   "source": [
    "x_train[0].shape"
   ]
  },
  {
   "cell_type": "code",
   "execution_count": 24,
   "metadata": {},
   "outputs": [
    {
     "name": "stdout",
     "output_type": "stream",
     "text": [
      "prediction test:  [[9.9935764e-01 6.4232055e-04]]\n",
      "\n",
      "\n",
      "\n",
      "prediction class test:  0 percentage:  99.94 %\n",
      "\n",
      "errou!\n"
     ]
    }
   ],
   "source": [
    "imagene_index_t=0\n",
    "typ_im=1\n",
    "\n",
    "\n",
    "xx_test = example_dict['images'][:, :, :, typ_im]\n",
    "\n",
    "r_xx_test= np.expand_dims(xx_test, axis=3)\n",
    "\n",
    "test_predict_t = model.predict(r_xx_test[imagene_index_t:imagene_index_t+1])\n",
    "print('prediction test: ', test_predict_t)\n",
    "print('\\n\\n\\nprediction class test: ', np.argmax(test_predict_t), 'percentage: ', \"%.2f\" % (test_predict_t[0][np.argmax(test_predict_t)]*100), '%')\n",
    "print()\n",
    "if(np.argmax(test_predict)==y_test[imagene_index_t]):\n",
    "    print('acertou!')\n",
    "else:\n",
    "    print('errou!')\n"
   ]
  },
  {
   "cell_type": "code",
   "execution_count": 25,
   "metadata": {},
   "outputs": [
    {
     "name": "stdout",
     "output_type": "stream",
     "text": [
      "list:  dict_keys(['val_loss', 'val_acc', 'loss', 'acc'])\n",
      "loss:  [0.13868193520367103, 0.13470434737226616, 0.16840196436653995, 0.15981211548407614, 0.1289246004820273, 0.13296406636235733, 0.1344194165211923, 0.13293654887290515, 0.12853294646455737, 0.12654630396234479, 0.12787196616444732, 0.12790292337588965, 0.13037419159306834, 0.14109821093144712, 0.12967200112428515, 0.12836326580159366, 0.12982495732735455, 0.12943117932329576, 0.1458825181899311, 0.1292536011268307, 0.1294909567544547, 0.13338551039398977, 0.1297193504861362, 0.1299990572165077, 0.134832840260906, 0.1271011402546855, 0.1291144489136214, 0.13125457640907165, 0.13451862748710264, 0.12957298419820146]\n"
     ]
    }
   ],
   "source": [
    "print('list: ',history.history.keys())\n",
    "print('loss: ',history.history['val_loss'])"
   ]
  },
  {
   "cell_type": "code",
   "execution_count": 27,
   "metadata": {},
   "outputs": [
    {
     "data": {
      "image/png": "[encoded data removed]",
      "text/plain": [
       "<Figure size 432x288 with 1 Axes>"
      ]
     },
     "metadata": {
      "needs_background": "light"
     },
     "output_type": "display_data"
    }
   ],
   "source": [
    "parametro='loss'\n",
    "\n",
    "x_axis = np.arange(1,epocas+1,1)\n",
    "y_axis = history.history[parametro]\n",
    "\n",
    "plt.plot(x_axis,y_axis)\n",
    "plt.xlabel('epoch')\n",
    "plt.ylabel(parametro)\n",
    "plt.title(parametro)\n",
    "plt.show()"
   ]
  },
  {
   "cell_type": "code",
   "execution_count": 28,
   "metadata": {},
   "outputs": [
    {
     "name": "stdout",
     "output_type": "stream",
     "text": [
      "unos_train:  37509\n",
      "ceros_train:  37491\n",
      "percentage: 50.01 %\n",
      "\n",
      "\n",
      "\n",
      "\n",
      "unos_test:  12491\n",
      "ceros_test:  12509\n",
      "percentage: 49.96 %\n"
     ]
    }
   ],
   "source": [
    "unos_train=0\n",
    "ceros_train=0\n",
    "unos_test=0\n",
    "ceros_test=0\n",
    "\n",
    "for val_train in y_train:\n",
    "\n",
    "    if val_train==1:\n",
    "        unos_train+=1\n",
    "    else:\n",
    "        ceros_train+=1\n",
    "\n",
    "\n",
    "for val_test in y_test:\n",
    "\n",
    "    if val_test==1:\n",
    "        unos_test+=1\n",
    "    else:\n",
    "        ceros_test+=1    \n",
    "        \n",
    "print('unos_train: ', unos_train)\n",
    "print('ceros_train: ', ceros_train)\n",
    "print('percentage: %.2f' % (100*(unos_train/(unos_train+ceros_train))), '%')\n",
    "print('\\n\\n\\n')\n",
    "print('unos_test: ', unos_test)\n",
    "print('ceros_test: ', ceros_test)\n",
    "print('percentage: %.2f' % (100*(unos_test/(unos_test+ceros_test))),'%')"
   ]
  },
  {
   "cell_type": "code",
   "execution_count": 29,
   "metadata": {},
   "outputs": [
    {
     "name": "stdout",
     "output_type": "stream",
     "text": [
      "y_test:  (25000,)\n",
      "np.argmax(predictions, axis=1) (25000,)\n",
      "[[0 0]\n",
      " [0 0]]\n",
      "[[12264   227]\n",
      " [  759 11750]]\n"
     ]
    }
   ],
   "source": [
    "print('y_test: ', y_test.shape)\n",
    "print('np.argmax(predictions, axis=1)', np.argmax(predictions_t, axis=1).shape)\n",
    "test_labels=y_test\n",
    "rounded_predictions= model.predict_classes(r_x_test, batch_size=10)\n",
    "\n",
    "\n",
    "cm= confusion_matrix(test_labels, rounded_predictions)\n",
    "\n",
    "cm_2= np.zeros((2,2), dtype=int)\n",
    "print(cm_2)\n",
    "cm_2[0,0]=cm[1,1]\n",
    "cm_2[1,1]=cm[0,0]\n",
    "cm_2[1,0]=cm[0,1]\n",
    "cm_2[0,1]=cm[1,0]\n",
    "print(cm_2)\n",
    "\n",
    "cm=cm_2\n"
   ]
  },
  {
   "cell_type": "code",
   "execution_count": 30,
   "metadata": {},
   "outputs": [],
   "source": [
    "def plot_confusion_matrix(cm, classes, \n",
    "                          normalize=False, \n",
    "                          title='Confusion Matrix',\n",
    "                          cmap=plt.cm.Blues):\n",
    "    '''\n",
    "    This function prints and plots the confusion matix.\n",
    "    Normalize can be applied by setting 'normalize=True'\n",
    "    '''\n",
    "    plt.imshow(cm, interpolation='nearest', cmap=cmap)\n",
    "    plt.title(title)\n",
    "    plt.colorbar()\n",
    "    tick_marks=np.arange(len(classes))\n",
    "    plt.xticks(tick_marks, classes, rotation=45)\n",
    "    plt.yticks(tick_marks, classes)\n",
    "    \n",
    "    if normalize:\n",
    "        cm= cm.astype('float') / cm.sum(axis-1)[:, np.newaxis]\n",
    "        print('Normalized Confusion Matrix')\n",
    "    else:\n",
    "        print('Confusion Matrix, without normalization')\n",
    "        \n",
    "        \n",
    "    print(cm)\n",
    "\n",
    "    thresh = cm.max()/2\n",
    "    for i,j in itertools.product(range(cm.shape[0]), range(cm.shape[1])):\n",
    "        plt.text(j,i,cm[i,j], \n",
    "                 horizontalalignment = 'center', \n",
    "                 color = 'white' if cm[i,j] > thresh else 'black')\n",
    "\n",
    "    plt.tight_layout()\n",
    "    plt.ylabel('True label')\n",
    "    plt.xlabel('Predicted label')"
   ]
  },
  {
   "cell_type": "code",
   "execution_count": 31,
   "metadata": {},
   "outputs": [
    {
     "name": "stdout",
     "output_type": "stream",
     "text": [
      "Confusion Matrix, without normalization\n",
      "[[12264   227]\n",
      " [  759 11750]]\n"
     ]
    },
    {
     "data": {
      "image/png": "[encoded data removed]",
      "text/plain": [
       "<Figure size 432x288 with 2 Axes>"
      ]
     },
     "metadata": {
      "needs_background": "light"
     },
     "output_type": "display_data"
    }
   ],
   "source": [
    "cm_plot_labels = ['super_nova','no_super_nova']\n",
    "plot_confusion_matrix(cm,cm_plot_labels, title = ' Confusion Matrix')\n",
    "\n"
   ]
  },
  {
   "cell_type": "code",
   "execution_count": null,
   "metadata": {},
   "outputs": [],
   "source": []
  },
  {
   "cell_type": "code",
   "execution_count": null,
   "metadata": {},
   "outputs": [],
   "source": []
  },
  {
   "cell_type": "code",
   "execution_count": null,
   "metadata": {},
   "outputs": [],
   "source": []
  },
  {
   "cell_type": "code",
   "execution_count": null,
   "metadata": {},
   "outputs": [],
   "source": []
  },
  {
   "cell_type": "code",
   "execution_count": null,
   "metadata": {},
   "outputs": [],
   "source": []
  }
 ],
 "metadata": {
  "kernelspec": {
   "display_name": "Python 3",
   "language": "python",
   "name": "python3"
  },
  "language_info": {
   "codemirror_mode": {
    "name": "ipython",
    "version": 3
   },
   "file_extension": ".py",
   "mimetype": "text/x-python",
   "name": "python",
   "nbconvert_exporter": "python",
   "pygments_lexer": "ipython3",
   "version": "3.7.3"
  }
 },
 "nbformat": 4,
 "nbformat_minor": 2
}
