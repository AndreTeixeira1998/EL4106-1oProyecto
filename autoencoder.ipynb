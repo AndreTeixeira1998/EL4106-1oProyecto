{
 "cells": [
  {
   "cell_type": "code",
   "execution_count": 1,
   "metadata": {},
   "outputs": [],
   "source": [
    "from __future__ import absolute_import\n",
    "from __future__ import division\n",
    "from __future__ import print_function\n",
    "\n",
    "from datetime import datetime\n",
    "from packaging import version\n",
    "\n",
    "%load_ext tensorboard"
   ]
  },
  {
   "cell_type": "code",
   "execution_count": 2,
   "metadata": {},
   "outputs": [
    {
     "name": "stderr",
     "output_type": "stream",
     "text": [
      "Using TensorFlow backend.\n"
     ]
    }
   ],
   "source": [
    "import tensorflow.keras as keras\n",
    "\n",
    "from keras.preprocessing.image import ImageDataGenerator\n",
    "from keras.models import Sequential, Model\n",
    "from keras.layers import Input, Dense, Conv2D, MaxPooling2D, UpSampling2D, Reshape\n",
    "from keras.layers import Activation, Dropout, Flatten, Dense\n",
    "from keras import optimizers\n",
    "from keras import losses\n",
    "from keras.callbacks import EarlyStopping\n",
    "from keras import backend as K\n",
    "from keras.models import load_model\n",
    "from keras.utils.vis_utils import plot_model\n",
    "\n",
    "from keras.layers.merge import concatenate\n",
    "\n",
    "from keras.callbacks import TensorBoard"
   ]
  },
  {
   "cell_type": "code",
   "execution_count": 3,
   "metadata": {},
   "outputs": [
    {
     "name": "stdout",
     "output_type": "stream",
     "text": [
      "1.14.0\n"
     ]
    }
   ],
   "source": [
    "import tensorflow as tf\n",
    "\n",
    "print(tf.__version__)"
   ]
  },
  {
   "cell_type": "code",
   "execution_count": 4,
   "metadata": {},
   "outputs": [
    {
     "name": "stdout",
     "output_type": "stream",
     "text": [
      "(100000,)\n",
      "(100000, 21, 21, 4)\n",
      "(40000, 24, 24, 1)\n"
     ]
    }
   ],
   "source": [
    "import numpy as np\n",
    "import matplotlib.pyplot as plt\n",
    "import pickle\n",
    "\n",
    "samples= 5\n",
    "tipo = 3    # np.random.randint(4)\n",
    "index_image = np.random.randint(100000)  \n",
    "\n",
    "\n",
    "# ========== EXTRACCIÓN DE DATOS ==============\n",
    "archivo = open('./dataset/HiTS2013_100k_samples(4_channels)_images_labels.pkl',\"rb\")\n",
    "example_dict= pickle.load(archivo)\n",
    "print(example_dict['labels'].shape)\n",
    "print(example_dict['images'].shape)\n",
    "\n",
    "L=example_dict['labels'].shape[0] #numero total de imagenes\n",
    "\n",
    "input_images=example_dict['images'][:40000, :, :, tipo]\n",
    "input_images=np.expand_dims(input_images, axis=-1)\n",
    "\n",
    "#padded\n",
    "input_images=np.pad(input_images, ((0,0),(2,1), (2,1), (0, 0)), 'constant')\n",
    "\n",
    "\n",
    "print(input_images.shape)"
   ]
  },
  {
   "cell_type": "code",
   "execution_count": 5,
   "metadata": {},
   "outputs": [],
   "source": [
    "#normalization\n",
    "def normalize(processed):\n",
    "    ####### calculate global mean and standard deviation\n",
    "    mean, std = processed.mean(), processed.std()\n",
    "    #print('Mean: %.3f, Standard Deviation: %.3f' % (mean, std))\n",
    "    ####### global standardization of pixels\n",
    "    processed = (processed - mean) / std\n",
    "    ####### clip pixel values to [-1,1]\n",
    "    processed = np.clip(processed, -1.0, 1.0)\n",
    "    ####### shift from [-1,1] to [0,1] with 0.5 mean\n",
    "    processed = (processed + 1.0) / 2.0\n",
    "    #print('after normalization')\n",
    "    #print('Valor máximo :', processed.max())\n",
    "    #print('Valor mínimo :', processed.min())\n",
    "    return processed"
   ]
  },
  {
   "cell_type": "code",
   "execution_count": 6,
   "metadata": {},
   "outputs": [],
   "source": [
    "#preprocess 3D to 2D\n",
    "\n",
    "def preprocessar_2d(ximg):\n",
    "\n",
    "    print(ximg.shape)\n",
    "    x= np.squeeze(ximg, axis=2)  \n",
    "    print('---->', x.shape)\n",
    "\n",
    "    \n",
    "    return x"
   ]
  },
  {
   "cell_type": "code",
   "execution_count": 7,
   "metadata": {},
   "outputs": [],
   "source": [
    "def divisionBBDD(image_type):\n",
    "    archivo = open('HiTS2013_100k_samples(4_channels)_images_labels.pkl', \"rb\")  # CAMBIAR LINEA\n",
    "    BBDD = pickle.load(archivo)\n",
    "    archivo.close()\n",
    "\n",
    "    # methods = ['Template', 'Science', 'Difference', 'SNR_Difference']\n",
    "\n",
    "    dimensions = BBDD['images'].shape\n",
    "    num_images = dimensions[0];\n",
    "    labels = BBDD['labels']\n",
    "    print(' labels.shape : ', labels.shape)\n",
    "\n",
    "    images_nova = []\n",
    "    images_no_nova = []\n",
    "\n",
    "    for i in range(num_images):\n",
    "        if labels[i] == 1:\n",
    "            images_nova.append(BBDD['images'][i, :, :, image_type])\n",
    "        elif labels[i] == 0:\n",
    "            images_no_nova.append(BBDD['images'][i, :, :, image_type])\n",
    "\n",
    "    return images_nova, images_no_nova"
   ]
  },
  {
   "cell_type": "code",
   "execution_count": null,
   "metadata": {},
   "outputs": [],
   "source": []
  },
  {
   "cell_type": "code",
   "execution_count": 8,
   "metadata": {},
   "outputs": [
    {
     "name": "stdout",
     "output_type": "stream",
     "text": [
      "shape de mapas de oclusion: (40000, 21, 21, 1)\n",
      "(21, 21, 1)\n",
      "----> (21, 21)\n",
      "Nº labels:  40000\n"
     ]
    },
    {
     "data": {
      "image/png": "[encoded data removed]",
      "text/plain": [
       "<Figure size 432x288 with 1 Axes>"
      ]
     },
     "metadata": {
      "needs_background": "light"
     },
     "output_type": "display_data"
    }
   ],
   "source": [
    "%matplotlib inline\n",
    "\n",
    "imagem=30000      #Choose image to visualize\n",
    "\n",
    "\n",
    "archivo_occluded = open('./dataset/OCmaps_F.pkl',\"rb\")\n",
    "OCmaps= pickle.load(archivo_occluded)\n",
    "\n",
    "\n",
    "\n",
    "OCimg=OCmaps[\"image\"]\n",
    "\n",
    "print(\"shape de mapas de oclusion:\", OCimg.shape)\n",
    "input_shape=OCimg[imagem].shape\n",
    "OCimg=preprocessar_2d(OCimg[imagem])\n",
    "\n",
    "\n",
    "labelOcc=OCmaps[\"label\"]\n",
    "labelOcc=labelOcc[:OCmaps[\"image\"].shape[0]]\n",
    "\n",
    "n_labels=  labelOcc.shape[0]\n",
    "\n",
    "#print(\"labels shape: \", labelOcc.shape)\n",
    "print(\"Nº labels: \", n_labels)\n",
    "\n",
    "\n",
    "plt.imshow(OCimg, cmap='jet')                #[2:19, 2:19])\n",
    "plt.axis(\"off\")\n",
    "\n",
    "\n",
    "plt.show()\n",
    "\n",
    "\n"
   ]
  },
  {
   "cell_type": "code",
   "execution_count": null,
   "metadata": {},
   "outputs": [],
   "source": []
  },
  {
   "cell_type": "code",
   "execution_count": 9,
   "metadata": {},
   "outputs": [
    {
     "name": "stdout",
     "output_type": "stream",
     "text": [
      "(40000, 24, 24, 1)\n",
      "input shape:  (24, 24, 1)\n",
      "(24, 24, 1)\n",
      "----> (24, 24)\n"
     ]
    },
    {
     "data": {
      "image/png": "[encoded data removed]",
      "text/plain": [
       "<Figure size 432x288 with 1 Axes>"
      ]
     },
     "metadata": {
      "needs_background": "light"
     },
     "output_type": "display_data"
    }
   ],
   "source": [
    "#padding images\n",
    "\n",
    "occ_img_padded=np.pad(OCmaps[\"image\"], ((0,0),(2,1), (2,1), (0, 0)), 'constant')\n",
    "print(occ_img_padded.shape)\n",
    "input_shape=occ_img_padded[imagem].shape\n",
    "print('input shape: ', input_shape)\n",
    "\n",
    "plt.imshow(preprocessar_2d(occ_img_padded[imagem]), cmap='jet')                #[2:19, 2:19])\n",
    "plt.axis(\"off\")\n",
    "\n",
    "\n",
    "plt.show()"
   ]
  },
  {
   "cell_type": "code",
   "execution_count": 10,
   "metadata": {},
   "outputs": [],
   "source": [
    "############ modelo Autoencoder Normal en Keras #################\n",
    "\n",
    "\n",
    "def autoencoder_test():\n",
    "\n",
    "    model = Sequential()\n",
    "    #conv\n",
    "    model.add(Conv2D(32, kernel_size=(4, 4), padding='same', strides=(1, 1),\n",
    "                     input_shape=input_shape))\n",
    "    #conv\n",
    "    model.add(Conv2D(32, kernel_size=(3, 3), padding='same', strides=(1, 1)))\n",
    "    #max-pool\n",
    "    model.add(MaxPooling2D(pool_size=(2, 2), strides=(2, 2)))\n",
    "    #conv\n",
    "    model.add(Conv2D(64, kernel_size=(3, 3), padding='same', strides=(1, 1)))\n",
    "    #conv\n",
    "    model.add(Conv2D(64, kernel_size=(3, 3), padding='same', strides=(1, 1)))\n",
    "    #conv\n",
    "    model.add(Conv2D(64, kernel_size=(3, 3), padding='same', strides=(1, 1)))              \n",
    "    #max-pool\n",
    "    model.add(MaxPooling2D(pool_size=(2, 2), strides=(2, 2)))\n",
    "    \n",
    "    model.add(Flatten())\n",
    "    \n",
    "    model.add(Dense(36, activation='softmax'))\n",
    "\n",
    "#\n",
    "\n",
    "    model.add(Reshape((6,6,1)))\n",
    "    #conv\n",
    "    model.add(Conv2D(64, kernel_size=(3, 3), padding='same', strides=(1, 1)))\n",
    "    #conv\n",
    "    model.add(Conv2D(64, kernel_size=(3, 3), padding='same', strides=(1, 1)))    \n",
    "    #conv\n",
    "    model.add(Conv2D(64, kernel_size=(3, 3), padding='same', strides=(1, 1)))  \n",
    "    #upsamp\n",
    "    model.add(UpSampling2D(size=(2, 2))) \n",
    "    \n",
    "    #conv\n",
    "    model.add(Conv2D(32, kernel_size=(3, 3), padding='same', strides=(1, 1)))\n",
    "    #conv\n",
    "    model.add(Conv2D(32, kernel_size=(4, 4), padding='same', strides=(1, 1)))\n",
    " \n",
    "    #upsamp\n",
    "    model.add(UpSampling2D(size=(2, 2))) \n",
    "    \n",
    "    #conv\n",
    "    model.add(Conv2D(1, kernel_size=(3, 3), activation='sigmoid', padding='same', strides=(1, 1)))\n",
    "    \n",
    "    \n",
    "    model.compile(optimizer='adadelta', loss='binary_crossentropy')\n",
    "\n",
    "    return model"
   ]
  },
  {
   "cell_type": "code",
   "execution_count": 11,
   "metadata": {},
   "outputs": [],
   "source": [
    "def encoder(classifier, dim, mode=True):\n",
    "    \n",
    "    weights = classifier.layers[0].get_weights()\n",
    "    print(weights[0].shape)\n",
    "    print(weights[1].shape)\n",
    "\n",
    "    \n",
    "    \n",
    "    model = Sequential()\n",
    "    #conv\n",
    "    model.add(Conv2D(32, kernel_size=(4, 4), padding='same', strides=(1, 1),\n",
    "                     input_shape=input_shape, trainable=False))\n",
    "    #conv\n",
    "    model.add(Conv2D(32, kernel_size=(3, 3), padding='same', strides=(1, 1), trainable=mode))\n",
    "    #max-pool\n",
    "    model.add(MaxPooling2D(pool_size=(2, 2), strides=(2, 2)))\n",
    "    #conv\n",
    "    model.add(Conv2D(64, kernel_size=(3, 3), padding='same', strides=(1, 1), trainable=mode))\n",
    "    #conv\n",
    "    model.add(Conv2D(64, kernel_size=(3, 3), padding='same', strides=(1, 1), trainable=mode))\n",
    "    #conv\n",
    "    model.add(Conv2D(64, kernel_size=(3, 3), padding='same', strides=(1, 1), trainable=mode))              \n",
    "    #max-pool\n",
    "    model.add(MaxPooling2D(pool_size=(2, 2), strides=(2, 2)))\n",
    "    \n",
    "    model.add(Flatten())\n",
    "    \n",
    "    model.add(Dense(dim, activation='softmax'))\n",
    "    \n",
    "    if mode==False:\n",
    "        model.layers[0].set_weights(classifier.layers[0].get_weights())\n",
    "        model.layers[1].set_weights(classifier.layers[1].get_weights())\n",
    "        model.layers[3].set_weights(classifier.layers[3].get_weights())\n",
    "        model.layers[4].set_weights(classifier.layers[4].get_weights())\n",
    "        model.layers[5].set_weights(classifier.layers[5].get_weights())\n",
    "        \n",
    "        \n",
    "    \n",
    "    return model"
   ]
  },
  {
   "cell_type": "code",
   "execution_count": 12,
   "metadata": {},
   "outputs": [],
   "source": [
    "def decoder(model):\n",
    "\n",
    "    \n",
    "\n",
    "    model.add(Reshape((6,6,1)))\n",
    "    #conv\n",
    "    model.add(Conv2D(64, kernel_size=(3, 3), padding='same', strides=(1, 1)))\n",
    "    #conv\n",
    "    model.add(Conv2D(64, kernel_size=(3, 3), padding='same', strides=(1, 1)))    \n",
    "    #conv\n",
    "    model.add(Conv2D(64, kernel_size=(3, 3), padding='same', strides=(1, 1)))  \n",
    "    #upsamp\n",
    "    model.add(UpSampling2D(size=(2, 2))) \n",
    "    \n",
    "    #conv\n",
    "    model.add(Conv2D(32, kernel_size=(3, 3), padding='same', strides=(1, 1)))\n",
    "    #conv\n",
    "    model.add(Conv2D(32, kernel_size=(4, 4), padding='same', strides=(1, 1)))\n",
    " \n",
    "    #upsamp\n",
    "    model.add(UpSampling2D(size=(2, 2))) \n",
    "    \n",
    "    #conv\n",
    "    model.add(Conv2D(1, kernel_size=(3, 3), activation='sigmoid', padding='same', strides=(1, 1)))\n",
    "    \n",
    "    \n",
    "\n",
    "    return model"
   ]
  },
  {
   "cell_type": "code",
   "execution_count": 13,
   "metadata": {},
   "outputs": [],
   "source": [
    "def autoencoder(model, verbose=0):\n",
    "    \n",
    "    model.compile(optimizer='adadelta', loss='binary_crossentropy')\n",
    "    \n",
    "    if verbose==1:\n",
    "        for i,layer in enumerate(model.layers):\n",
    "            print(i,layer.name)\n",
    "    \n",
    "    return model\n"
   ]
  },
  {
   "cell_type": "code",
   "execution_count": 14,
   "metadata": {},
   "outputs": [
    {
     "name": "stdout",
     "output_type": "stream",
     "text": [
      "WARNING:tensorflow:From /home/endredra/anaconda3/lib/python3.7/site-packages/keras/backend/tensorflow_backend.py:68: The name tf.get_default_graph is deprecated. Please use tf.compat.v1.get_default_graph instead.\n",
      "\n",
      "WARNING:tensorflow:From /home/endredra/anaconda3/lib/python3.7/site-packages/keras/backend/tensorflow_backend.py:504: The name tf.placeholder is deprecated. Please use tf.compat.v1.placeholder instead.\n",
      "\n",
      "WARNING:tensorflow:From /home/endredra/anaconda3/lib/python3.7/site-packages/keras/backend/tensorflow_backend.py:3828: The name tf.random_uniform is deprecated. Please use tf.random.uniform instead.\n",
      "\n",
      "WARNING:tensorflow:From /home/endredra/anaconda3/lib/python3.7/site-packages/keras/backend/tensorflow_backend.py:3652: The name tf.nn.max_pool is deprecated. Please use tf.nn.max_pool2d instead.\n",
      "\n",
      "WARNING:tensorflow:From /home/endredra/anaconda3/lib/python3.7/site-packages/keras/backend/tensorflow_backend.py:126: The name tf.placeholder_with_default is deprecated. Please use tf.compat.v1.placeholder_with_default instead.\n",
      "\n",
      "WARNING:tensorflow:From /home/endredra/anaconda3/lib/python3.7/site-packages/keras/backend/tensorflow_backend.py:3135: calling dropout (from tensorflow.python.ops.nn_ops) with keep_prob is deprecated and will be removed in a future version.\n",
      "Instructions for updating:\n",
      "Please use `rate` instead of `keep_prob`. Rate should be set to `rate = 1 - keep_prob`.\n",
      "WARNING:tensorflow:From /home/endredra/anaconda3/lib/python3.7/site-packages/keras/backend/tensorflow_backend.py:166: The name tf.get_default_session is deprecated. Please use tf.compat.v1.get_default_session instead.\n",
      "\n",
      "WARNING:tensorflow:From /home/endredra/anaconda3/lib/python3.7/site-packages/keras/optimizers.py:744: The name tf.train.Optimizer is deprecated. Please use tf.compat.v1.train.Optimizer instead.\n",
      "\n",
      "WARNING:tensorflow:From /home/endredra/anaconda3/lib/python3.7/site-packages/tensorflow/python/ops/math_grad.py:1250: add_dispatch_support.<locals>.wrapper (from tensorflow.python.ops.array_ops) is deprecated and will be removed in a future version.\n",
      "Instructions for updating:\n",
      "Use tf.where in 2.0, which has the same broadcast rule as np.where\n",
      "(4, 4, 1, 32)\n",
      "(32,)\n",
      "WARNING:tensorflow:From /home/endredra/anaconda3/lib/python3.7/site-packages/keras/backend/tensorflow_backend.py:1937: The name tf.image.resize_nearest_neighbor is deprecated. Please use tf.compat.v1.image.resize_nearest_neighbor instead.\n",
      "\n",
      "0 conv2d_1\n",
      "1 conv2d_2\n",
      "2 max_pooling2d_1\n",
      "3 conv2d_3\n",
      "4 conv2d_4\n",
      "5 conv2d_5\n",
      "6 max_pooling2d_2\n",
      "7 flatten_1\n",
      "8 dense_1\n",
      "9 reshape_1\n",
      "10 conv2d_6\n",
      "11 conv2d_7\n",
      "12 conv2d_8\n",
      "13 up_sampling2d_1\n",
      "14 conv2d_9\n",
      "15 conv2d_10\n",
      "16 up_sampling2d_2\n",
      "17 conv2d_11\n"
     ]
    }
   ],
   "source": [
    "#acá tienes el autoencoder creado \n",
    "encoder=encoder(load_model('supernova_class.model'), 36, False) #aqui modelo \n",
    "model=autoencoder(decoder(encoder), verbose=1)"
   ]
  },
  {
   "cell_type": "code",
   "execution_count": 2,
   "metadata": {},
   "outputs": [
    {
     "ename": "NameError",
     "evalue": "name 'autoencoder_test' is not defined",
     "output_type": "error",
     "traceback": [
      "\u001b[0;31m---------------------------------------------------------------------------\u001b[0m",
      "\u001b[0;31mNameError\u001b[0m                                 Traceback (most recent call last)",
      "\u001b[0;32m<ipython-input-2-52d4cc1ebd16>\u001b[0m in \u001b[0;36m<module>\u001b[0;34m\u001b[0m\n\u001b[0;32m----> 1\u001b[0;31m \u001b[0mmodel\u001b[0m\u001b[0;34m=\u001b[0m\u001b[0mautoencoder_test\u001b[0m\u001b[0;34m(\u001b[0m\u001b[0mverbose\u001b[0m\u001b[0;34m=\u001b[0m\u001b[0;36m1\u001b[0m\u001b[0;34m)\u001b[0m\u001b[0;34m\u001b[0m\u001b[0;34m\u001b[0m\u001b[0m\n\u001b[0m",
      "\u001b[0;31mNameError\u001b[0m: name 'autoencoder_test' is not defined"
     ]
    }
   ],
   "source": [
    "#model=autoencoder_test(verbose=1)"
   ]
  },
  {
   "cell_type": "code",
   "execution_count": 15,
   "metadata": {},
   "outputs": [
    {
     "name": "stdout",
     "output_type": "stream",
     "text": [
      "_________________________________________________________________\n",
      "Layer (type)                 Output Shape              Param #   \n",
      "=================================================================\n",
      "conv2d_1 (Conv2D)            (None, 24, 24, 32)        544       \n",
      "_________________________________________________________________\n",
      "conv2d_2 (Conv2D)            (None, 24, 24, 32)        9248      \n",
      "_________________________________________________________________\n",
      "max_pooling2d_1 (MaxPooling2 (None, 12, 12, 32)        0         \n",
      "_________________________________________________________________\n",
      "conv2d_3 (Conv2D)            (None, 12, 12, 64)        18496     \n",
      "_________________________________________________________________\n",
      "conv2d_4 (Conv2D)            (None, 12, 12, 64)        36928     \n",
      "_________________________________________________________________\n",
      "conv2d_5 (Conv2D)            (None, 12, 12, 64)        36928     \n",
      "_________________________________________________________________\n",
      "max_pooling2d_2 (MaxPooling2 (None, 6, 6, 64)          0         \n",
      "_________________________________________________________________\n",
      "flatten_1 (Flatten)          (None, 2304)              0         \n",
      "_________________________________________________________________\n",
      "dense_1 (Dense)              (None, 36)                82980     \n",
      "_________________________________________________________________\n",
      "reshape_1 (Reshape)          (None, 6, 6, 1)           0         \n",
      "_________________________________________________________________\n",
      "conv2d_6 (Conv2D)            (None, 6, 6, 64)          640       \n",
      "_________________________________________________________________\n",
      "conv2d_7 (Conv2D)            (None, 6, 6, 64)          36928     \n",
      "_________________________________________________________________\n",
      "conv2d_8 (Conv2D)            (None, 6, 6, 64)          36928     \n",
      "_________________________________________________________________\n",
      "up_sampling2d_1 (UpSampling2 (None, 12, 12, 64)        0         \n",
      "_________________________________________________________________\n",
      "conv2d_9 (Conv2D)            (None, 12, 12, 32)        18464     \n",
      "_________________________________________________________________\n",
      "conv2d_10 (Conv2D)           (None, 12, 12, 32)        16416     \n",
      "_________________________________________________________________\n",
      "up_sampling2d_2 (UpSampling2 (None, 24, 24, 32)        0         \n",
      "_________________________________________________________________\n",
      "conv2d_11 (Conv2D)           (None, 24, 24, 1)         289       \n",
      "=================================================================\n",
      "Total params: 294,789\n",
      "Trainable params: 192,645\n",
      "Non-trainable params: 102,144\n",
      "_________________________________________________________________\n"
     ]
    }
   ],
   "source": [
    "model.summary()"
   ]
  },
  {
   "cell_type": "code",
   "execution_count": 16,
   "metadata": {},
   "outputs": [
    {
     "name": "stdout",
     "output_type": "stream",
     "text": [
      "WARNING:tensorflow:From /home/endredra/anaconda3/lib/python3.7/site-packages/keras/callbacks.py:714: The name tf.summary.merge_all is deprecated. Please use tf.compat.v1.summary.merge_all instead.\n",
      "\n",
      "WARNING:tensorflow:From /home/endredra/anaconda3/lib/python3.7/site-packages/keras/callbacks.py:717: The name tf.summary.FileWriter is deprecated. Please use tf.compat.v1.summary.FileWriter instead.\n",
      "\n",
      "Epoch 1/2\n",
      "40000/40000 [==============================] - 196s 5ms/step - loss: 0.3732\n",
      "Epoch 2/2\n",
      "40000/40000 [==============================] - 189s 5ms/step - loss: 0.3568\n"
     ]
    },
    {
     "data": {
      "text/plain": [
       "<keras.callbacks.History at 0x7fdd125becf8>"
      ]
     },
     "execution_count": 16,
     "metadata": {},
     "output_type": "execute_result"
    }
   ],
   "source": [
    "#entrenar\n",
    "epocas=2\n",
    "batch=10\n",
    "x_train=occ_img_padded\n",
    "\n",
    "#es = EarlyStopping(monitor='val_loss', mode='min', verbose=1)\n",
    "#print('input shape: ', x_train.shape)\n",
    "\n",
    "model.fit(input_images, x_train,\n",
    "                epochs=epocas,\n",
    "                batch_size=batch,\n",
    "                validation_split=0.25,\n",
    "                shuffle=True,\n",
    "                callbacks=[TensorBoard(log_dir='./tmp/autoencoder')])\n"
   ]
  },
  {
   "cell_type": "code",
   "execution_count": 17,
   "metadata": {},
   "outputs": [],
   "source": [
    "def mse(imageA, imageB):\n",
    "    # the 'Mean Squared Error' between the two images is the\n",
    "    # sum of the squared difference between the two images;\n",
    "    # NOTE: the two images must have the same dimension\n",
    "    err = np.sum((imageA.astype(\"float\") - imageB.astype(\"float\")) ** 2)\n",
    "    err /= float(imageA.shape[0] * imageA.shape[1])\n",
    "    \n",
    "    # return the MSE, the lower the error, the more \"similar\"\n",
    "    # the two images are\n",
    "    return err"
   ]
  },
  {
   "cell_type": "code",
   "execution_count": 18,
   "metadata": {},
   "outputs": [
    {
     "data": {
      "text/plain": [
       "Reusing TensorBoard on port 6006 (pid 32285), started 0:20:46 ago. (Use '!kill 32285' to kill it.)"
      ]
     },
     "metadata": {},
     "output_type": "display_data"
    },
    {
     "data": {
      "text/html": [
       "\n",
       "        <iframe\n",
       "            width=\"100%\"\n",
       "            height=\"800\"\n",
       "            src=\"http://localhost:6006\"\n",
       "            frameborder=\"0\"\n",
       "            allowfullscreen\n",
       "        ></iframe>\n",
       "        "
      ],
      "text/plain": [
       "<IPython.lib.display.IFrame at 0x7fdd1732bac8>"
      ]
     },
     "metadata": {},
     "output_type": "display_data"
    }
   ],
   "source": [
    "%tensorboard --logdir ./tmp/autoencoder"
   ]
  },
  {
   "cell_type": "code",
   "execution_count": 19,
   "metadata": {},
   "outputs": [
    {
     "name": "stdout",
     "output_type": "stream",
     "text": [
      "40000/40000 [==============================] - 67s 2ms/step\n"
     ]
    }
   ],
   "source": [
    "decoded_imgs = model.predict(input_images, verbose=1)"
   ]
  },
  {
   "cell_type": "code",
   "execution_count": 20,
   "metadata": {},
   "outputs": [
    {
     "name": "stdout",
     "output_type": "stream",
     "text": [
      "0.0023499686907378983\n"
     ]
    }
   ],
   "source": [
    "print(mse(x_train[imagem], decoded_imgs[imagem]))"
   ]
  },
  {
   "cell_type": "code",
   "execution_count": 21,
   "metadata": {},
   "outputs": [
    {
     "name": "stdout",
     "output_type": "stream",
     "text": [
      "(24, 24, 1)\n",
      "----> (24, 24)\n"
     ]
    },
    {
     "data": {
      "image/png": "[encoded data removed]",
      "text/plain": [
       "<Figure size 432x288 with 1 Axes>"
      ]
     },
     "metadata": {
      "needs_background": "light"
     },
     "output_type": "display_data"
    }
   ],
   "source": [
    "test=3\n",
    "\n",
    "plt.imshow(preprocessar_2d(decoded_imgs[test]), cmap='jet')\n",
    "plt.axis(\"off\")\n",
    "\n",
    "\n",
    "plt.show()"
   ]
  },
  {
   "cell_type": "code",
   "execution_count": 22,
   "metadata": {},
   "outputs": [
    {
     "name": "stdout",
     "output_type": "stream",
     "text": [
      "(24, 24, 1)\n",
      "----> (24, 24)\n"
     ]
    },
    {
     "data": {
      "image/png": "[encoded data removed]",
      "text/plain": [
       "<Figure size 432x288 with 1 Axes>"
      ]
     },
     "metadata": {
      "needs_background": "light"
     },
     "output_type": "display_data"
    }
   ],
   "source": [
    "plt.imshow(preprocessar_2d(occ_img_padded[test]), cmap='jet')\n",
    "plt.axis(\"off\")\n",
    "\n",
    "\n",
    "plt.show()"
   ]
  },
  {
   "cell_type": "code",
   "execution_count": 23,
   "metadata": {},
   "outputs": [
    {
     "name": "stdout",
     "output_type": "stream",
     "text": [
      "0.004852394544770828\n"
     ]
    }
   ],
   "source": [
    "print(mse(x_train[test], decoded_imgs[test]))"
   ]
  },
  {
   "cell_type": "code",
   "execution_count": 24,
   "metadata": {},
   "outputs": [
    {
     "name": "stdout",
     "output_type": "stream",
     "text": [
      "(24, 24, 1)\n",
      "----> (24, 24)\n"
     ]
    },
    {
     "data": {
      "image/png": "[encoded data removed]",
      "text/plain": [
       "<Figure size 432x288 with 1 Axes>"
      ]
     },
     "metadata": {
      "needs_background": "light"
     },
     "output_type": "display_data"
    }
   ],
   "source": [
    "plt.imshow(preprocessar_2d(input_images[test]), cmap='jet')\n",
    "plt.axis(\"off\")\n",
    "\n",
    "\n",
    "plt.show()"
   ]
  },
  {
   "cell_type": "code",
   "execution_count": 25,
   "metadata": {},
   "outputs": [],
   "source": [
    "encoder = Model(inputs=model.input, outputs=model.get_layer('dense_1').output)"
   ]
  },
  {
   "cell_type": "code",
   "execution_count": 26,
   "metadata": {},
   "outputs": [
    {
     "name": "stdout",
     "output_type": "stream",
     "text": [
      "40000/40000 [==============================] - 35s 866us/step\n"
     ]
    }
   ],
   "source": [
    "encoded_imgs = encoder.predict(input_images, verbose=1)"
   ]
  },
  {
   "cell_type": "code",
   "execution_count": 27,
   "metadata": {},
   "outputs": [
    {
     "name": "stdout",
     "output_type": "stream",
     "text": [
      "_________________________________________________________________\n",
      "Layer (type)                 Output Shape              Param #   \n",
      "=================================================================\n",
      "conv2d_1_input (InputLayer)  (None, 24, 24, 1)         0         \n",
      "_________________________________________________________________\n",
      "conv2d_1 (Conv2D)            (None, 24, 24, 32)        544       \n",
      "_________________________________________________________________\n",
      "conv2d_2 (Conv2D)            (None, 24, 24, 32)        9248      \n",
      "_________________________________________________________________\n",
      "max_pooling2d_1 (MaxPooling2 (None, 12, 12, 32)        0         \n",
      "_________________________________________________________________\n",
      "conv2d_3 (Conv2D)            (None, 12, 12, 64)        18496     \n",
      "_________________________________________________________________\n",
      "conv2d_4 (Conv2D)            (None, 12, 12, 64)        36928     \n",
      "_________________________________________________________________\n",
      "conv2d_5 (Conv2D)            (None, 12, 12, 64)        36928     \n",
      "_________________________________________________________________\n",
      "max_pooling2d_2 (MaxPooling2 (None, 6, 6, 64)          0         \n",
      "_________________________________________________________________\n",
      "flatten_1 (Flatten)          (None, 2304)              0         \n",
      "_________________________________________________________________\n",
      "dense_1 (Dense)              (None, 36)                82980     \n",
      "=================================================================\n",
      "Total params: 185,124\n",
      "Trainable params: 82,980\n",
      "Non-trainable params: 102,144\n",
      "_________________________________________________________________\n"
     ]
    }
   ],
   "source": [
    "encoder.summary()"
   ]
  },
  {
   "cell_type": "code",
   "execution_count": 28,
   "metadata": {},
   "outputs": [
    {
     "name": "stdout",
     "output_type": "stream",
     "text": [
      "(40000, 36)\n"
     ]
    }
   ],
   "source": [
    "print(encoded_imgs.shape)"
   ]
  },
  {
   "cell_type": "code",
   "execution_count": 29,
   "metadata": {},
   "outputs": [
    {
     "name": "stdout",
     "output_type": "stream",
     "text": [
      "[2.82780547e-07 3.03034433e-08 4.02955145e-08 3.49885241e-08\n",
      " 2.42591973e-08 1.14869316e-07 1.19803644e-07 3.29175514e-08\n",
      " 2.46014480e-08 7.16026634e-08 2.84225678e-07 8.34986267e-08\n",
      " 4.62467327e-08 5.60264724e-08 1.56542546e-06 3.73376992e-08\n",
      " 1.50239060e-07 1.18233324e-07 4.93421020e-08 6.87074220e-08\n",
      " 8.22799848e-07 5.17930021e-04 1.84140680e-03 1.38533826e-03\n",
      " 4.79398068e-08 2.16712024e-07 6.01206182e-07 1.80236157e-07\n",
      " 8.91476870e-02 7.67675869e-04 7.03974337e-08 8.35006944e-08\n",
      " 1.45159419e-07 2.01546186e-07 9.06334221e-01 2.14714689e-07]\n"
     ]
    }
   ],
   "source": [
    "print(encoded_imgs[test])"
   ]
  },
  {
   "cell_type": "code",
   "execution_count": 30,
   "metadata": {},
   "outputs": [],
   "source": [
    "encoded_imgs=np.append(encoded_imgs, labelOcc[0])"
   ]
  },
  {
   "cell_type": "code",
   "execution_count": 31,
   "metadata": {},
   "outputs": [
    {
     "name": "stdout",
     "output_type": "stream",
     "text": [
      "(1440001,)\n"
     ]
    }
   ],
   "source": [
    "print(encoded_imgs.shape)"
   ]
  },
  {
   "cell_type": "code",
   "execution_count": 32,
   "metadata": {},
   "outputs": [],
   "source": [
    "encoded_imgs=np.append(encoded_imgs, labelOcc, axis=-1)"
   ]
  },
  {
   "cell_type": "code",
   "execution_count": 33,
   "metadata": {},
   "outputs": [
    {
     "name": "stdout",
     "output_type": "stream",
     "text": [
      "40000\n"
     ]
    }
   ],
   "source": [
    "print(labelOcc.shape[0])"
   ]
  },
  {
   "cell_type": "code",
   "execution_count": 34,
   "metadata": {},
   "outputs": [
    {
     "name": "stdout",
     "output_type": "stream",
     "text": [
      "[3.76092473e-08 7.71852058e-08 4.37467271e-08 ... 1.00000000e+00\n",
      " 1.00000000e+00 0.00000000e+00]\n"
     ]
    }
   ],
   "source": [
    "print(encoded_imgs)"
   ]
  },
  {
   "cell_type": "code",
   "execution_count": 36,
   "metadata": {},
   "outputs": [
    {
     "data": {
      "image/png": "[encoded data removed]",
      "text/plain": [
       "<IPython.core.display.Image object>"
      ]
     },
     "execution_count": 36,
     "metadata": {
      "image/png": {
       "height": 1032,
       "width": 258
      }
     },
     "output_type": "execute_result"
    }
   ],
   "source": [
    "plot_model(model, show_shapes=True, show_layer_names=True, to_file='model.png')\n",
    "from IPython.display import Image\n",
    "Image(retina=True, filename='model.png')"
   ]
  },
  {
   "cell_type": "code",
   "execution_count": 1,
   "metadata": {},
   "outputs": [
    {
     "data": {
      "text/plain": [
       "1.000000078866866"
      ]
     },
     "execution_count": 1,
     "metadata": {},
     "output_type": "execute_result"
    }
   ],
   "source": [
    "2.82780547e-07 +3.03034433e-08+ 4.02955145e-08+ 3.49885241e-08+2.42591973e-08 +1.14869316e-07 +1.19803644e-07+ 3.29175514e-08+2.46014480e-08 +7.16026634e-08+ 2.84225678e-07+ 8.34986267e-08+  4.62467327e-08 +5.60264724e-08 +1.56542546e-06+ 3.73376992e-08 + 1.50239060e-07 +1.18233324e-07 +4.93421020e-08 +6.87074220e-08 + 8.22799848e-07 + 5.17930021e-04 + 1.84140680e-03 + 1.38533826e-03 +  4.79398068e-08 + 2.16712024e-07 + 6.01206182e-07 + 1.80236157e-07+  8.91476870e-02 +7.67675869e-04+ 7.03974337e-08+ 8.35006944e-08+1.45159419e-07+ 2.01546186e-07+ 9.06334221e-01 +2.14714689e-07"
   ]
  },
  {
   "cell_type": "code",
   "execution_count": null,
   "metadata": {},
   "outputs": [],
   "source": []
  }
 ],
 "metadata": {
  "kernelspec": {
   "display_name": "Python 3",
   "language": "python",
   "name": "python3"
  },
  "language_info": {
   "codemirror_mode": {
    "name": "ipython",
    "version": 3
   },
   "file_extension": ".py",
   "mimetype": "text/x-python",
   "name": "python",
   "nbconvert_exporter": "python",
   "pygments_lexer": "ipython3",
   "version": "3.7.3"
  }
 },
 "nbformat": 4,
 "nbformat_minor": 2
}
