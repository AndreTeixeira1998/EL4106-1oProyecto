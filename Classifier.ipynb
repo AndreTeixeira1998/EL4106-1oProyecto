{
 "cells": [
  {
   "cell_type": "code",
   "execution_count": 1,
   "metadata": {},
   "outputs": [],
   "source": [
    "from __future__ import absolute_import\n",
    "from __future__ import division\n",
    "from __future__ import print_function\n",
    "\n",
    "from datetime import datetime\n",
    "from packaging import version"
   ]
  },
  {
   "cell_type": "code",
   "execution_count": 2,
   "metadata": {},
   "outputs": [
    {
     "name": "stderr",
     "output_type": "stream",
     "text": [
      "Using TensorFlow backend.\n"
     ]
    }
   ],
   "source": [
    "import tensorflow.keras as keras\n",
    "\n",
    "from keras.preprocessing.image import ImageDataGenerator\n",
    "from keras.models import Sequential\n",
    "from keras.layers import Conv2D, MaxPooling2D\n",
    "from keras.layers import Activation, Dropout, Flatten, Dense\n",
    "from keras import optimizers\n",
    "from keras import losses\n",
    "from keras.callbacks import EarlyStopping\n",
    "from keras import backend as K\n",
    "from keras.models import load_model"
   ]
  },
  {
   "cell_type": "code",
   "execution_count": 3,
   "metadata": {},
   "outputs": [
    {
     "name": "stdout",
     "output_type": "stream",
     "text": [
      "1.14.0\n"
     ]
    }
   ],
   "source": [
    "import tensorflow as tf\n",
    "\n",
    "print(tf.__version__)"
   ]
  },
  {
   "cell_type": "code",
   "execution_count": 4,
   "metadata": {},
   "outputs": [],
   "source": [
    "# Ensure TensorFlow 2.0 is installed.\n",
    "#!pip install -q tf-nightly-2.0-preview\n",
    "#!pip3 install tensorflow==1.4\n",
    "#!pip install --ignore-installed --upgrade tensorflow==1.4\n",
    "#!pip install tensorflow==1.3.0\n",
    "# Load the TensorBoard notebook extension.\n",
    "#%load_ext tensorboard\n",
    "%load_ext tensorboard"
   ]
  },
  {
   "cell_type": "code",
   "execution_count": 5,
   "metadata": {},
   "outputs": [],
   "source": [
    "from sklearn.metrics import confusion_matrix\n",
    "import itertools"
   ]
  },
  {
   "cell_type": "code",
   "execution_count": 6,
   "metadata": {},
   "outputs": [
    {
     "name": "stdout",
     "output_type": "stream",
     "text": [
      "1.14.0\n"
     ]
    }
   ],
   "source": [
    "#import tensorflow as tf\n",
    "\n",
    "print(tf.__version__)"
   ]
  },
  {
   "cell_type": "code",
   "execution_count": 1,
   "metadata": {},
   "outputs": [
    {
     "name": "stdout",
     "output_type": "stream",
     "text": [
      "(100000,)\n",
      "(100000, 21, 21, 4)\n"
     ]
    }
   ],
   "source": [
    "import numpy as np\n",
    "import matplotlib.pyplot as plt\n",
    "import pickle\n",
    "\n",
    "samples= 5\n",
    "tipo = 3    # np.random.randint(4)\n",
    "index_image = np.random.randint(100000)  \n",
    "\n",
    "\n",
    "# ========== EXTRACCIÓN DE DATOS ==============\n",
    "archivo = open('./dataset/HiTS2013_100k_samples(4_channels)_images_labels.pkl',\"rb\")\n",
    "example_dict= pickle.load(archivo)\n",
    "print(example_dict['labels'].shape)\n",
    "print(example_dict['images'].shape)"
   ]
  },
  {
   "cell_type": "code",
   "execution_count": 8,
   "metadata": {},
   "outputs": [
    {
     "name": "stdout",
     "output_type": "stream",
     "text": [
      "(75000, 21, 21)\n",
      "(25000, 21, 21)\n",
      "75000\n",
      "25000\n",
      "[0 0 0 1 1 0 1 0 0 1 1 0 0 0 0 1 0 0 1 0 0 1 0 0 0 1 0 1 0 0 1 1 1 1 1 0 1\n",
      " 0 0 0 0 0 1 0 0 1 1 0 1 1 1 0 1 0 1 1 1 0 1 1 1 0 0 0 1 0 0 0 0 0 0 1 1 1\n",
      " 1 0 1 1 0 1 1 0 0 1 1 1 0 1 0 1 1 0 1 1 1 1 1 1 0 0]\n",
      "\n",
      "\n",
      "input_shape:  21 x 21\n"
     ]
    }
   ],
   "source": [
    "xx = example_dict['images'][:, :, :, tipo]\n",
    "yy= example_dict['labels']\n",
    "print(xx[:75000].shape)\n",
    "print(xx[75000:].shape)\n",
    "print(yy[:75000].shape[0])\n",
    "print(yy[75000:].shape[0])\n",
    "print(yy[:100])\n",
    "#database to train\n",
    "x_train=xx[:75000]\n",
    "y_train=yy[:75000]\n",
    "\n",
    "#database to test\n",
    "x_test=xx[75000:]\n",
    "y_test=yy[75000:]\n",
    "\n",
    "\n",
    "input_shape1=x_test.shape[1]\n",
    "input_shape2=x_test.shape[2]\n",
    "print('\\n\\ninput_shape: ' , input_shape1, 'x', input_shape2)\n",
    "\n",
    "input_shape = (input_shape1, input_shape2, 1)"
   ]
  },
  {
   "cell_type": "code",
   "execution_count": 9,
   "metadata": {},
   "outputs": [
    {
     "data": {
      "image/png": "[encoded data removed]",
      "text/plain": [
       "<Figure size 432x288 with 1 Axes>"
      ]
     },
     "metadata": {
      "needs_background": "light"
     },
     "output_type": "display_data"
    }
   ],
   "source": [
    "%matplotlib inline\n",
    "plt.imshow(x_train[0])#,cmap=plt.cm.binary)\n",
    "plt.show()"
   ]
  },
  {
   "cell_type": "code",
   "execution_count": 10,
   "metadata": {},
   "outputs": [
    {
     "name": "stdout",
     "output_type": "stream",
     "text": [
      "falso:  0\n"
     ]
    }
   ],
   "source": [
    "print('falso: ', y_train[0])"
   ]
  },
  {
   "cell_type": "code",
   "execution_count": 11,
   "metadata": {},
   "outputs": [
    {
     "data": {
      "image/png": "[encoded data removed]",
      "text/plain": [
       "<Figure size 432x288 with 1 Axes>"
      ]
     },
     "metadata": {
      "needs_background": "light"
     },
     "output_type": "display_data"
    }
   ],
   "source": [
    "%matplotlib inline\n",
    "plt.imshow(x_train[4])#,cmap=plt.cm.binary)\n",
    "plt.show()"
   ]
  },
  {
   "cell_type": "code",
   "execution_count": 12,
   "metadata": {},
   "outputs": [
    {
     "name": "stdout",
     "output_type": "stream",
     "text": [
      "positivo:  1\n"
     ]
    }
   ],
   "source": [
    "print('positivo: ', y_train[4])"
   ]
  },
  {
   "cell_type": "code",
   "execution_count": 13,
   "metadata": {},
   "outputs": [],
   "source": [
    "# Reshape the images.\n",
    "r_x_train= np.expand_dims(x_train, axis=3)\n",
    "r_x_test = np.expand_dims(x_test, axis=3)"
   ]
  },
  {
   "cell_type": "code",
   "execution_count": 14,
   "metadata": {},
   "outputs": [],
   "source": [
    "############ modelo MLP #################\n",
    "\n",
    "#model = tf.keras.models.Sequential()\n",
    " \n",
    "#capas\n",
    "\n",
    "#model.add(tf.keras.layers.Flatten())\n",
    "#model.add(tf.keras.layers.Dense(128, activation=tf.nn.relu))\n",
    "#model.add(tf.keras.layers.Dense(128, activation=tf.nn.relu))\n",
    "#model.add(tf.keras.layers.Dense(2, activation=tf.nn.softmax))\n",
    "\n",
    "\n",
    "############ modelo Conv test #################\n",
    "\n",
    "\n",
    "#model = Sequential()\n",
    "#model.add(Conv2D(32, (3, 3), input_shape=input_shape))\n",
    "#model.add(Activation('relu'))\n",
    "#model.add(MaxPooling2D(pool_size=(2, 2)))\n",
    "\n",
    "#model.add(Conv2D(32, (3, 3)))\n",
    "#model.add(Activation('relu'))\n",
    "#model.add(MaxPooling2D(pool_size=(2, 2)))\n",
    "\n",
    "\n",
    "#model.add(Flatten())\n",
    "#model.add(Dense(32))\n",
    "#model.add(Activation('relu'))\n",
    "#model.add(Dropout(0.5))\n",
    "#model.add(Dense(2))\n",
    "#model.add(Activation('softmax'))\n",
    "\n",
    "\n",
    "############ modelo Conv Keras #################\n",
    "\n",
    "\n",
    "#model = Sequential([\n",
    "#  Conv2D(num_filters, filter_size, input_shape=input_shape),\n",
    "#  MaxPooling2D(pool_size=pool_size),\n",
    "#  Flatten(),\n",
    "#  Dense(10, activation='softmax'),\n",
    "#])\n",
    "\n",
    "\n",
    "#########################################################\n",
    "##                    Sin Zero Padding                 ##      \n",
    "#########################################################\n",
    "##    21x21x1 -> 19x19x8 -> 9x9x8 -> FC=10 -> FC=2     ##\n",
    "#########################################################\n",
    "\n",
    "\n",
    "#########################################################\n",
    "##                    Con Zero Padding                 ##\n",
    "#########################################################\n",
    "##    21x21x1 -> 21x21x8 -> 10x10x8 -> FC=10 -> FC=2   ##\n",
    "#########################################################\n",
    "\n",
    "logdir = \"logs/scalars/\" + datetime.now().strftime(\"%Y%m%d-%H%M%S\")\n",
    "tensorboard_callback = keras.callbacks.TensorBoard(logdir, histogram_freq=1)\n",
    "#keras.callbacks.TensorBoard(log_dir=logdir)\n",
    "\n",
    "\n",
    "def CNN_model(num_filters = 8 , filter_size = 3, pool_size = 2, batch= 10):\n",
    "    #num_filters = 8  #profundidad\n",
    "    #filter_size = 3  #3x3 filter (conv3)\n",
    "    #pool_size = 2    # Max Pooling de 2\n",
    "\n",
    "    #batch= 10        #batch size\n",
    "\n",
    "\n",
    "    model = Sequential([\n",
    "      Conv2D(num_filters, filter_size, padding='same', input_shape=input_shape),\n",
    "      MaxPooling2D(pool_size=pool_size),\n",
    "    ])\n",
    "\n",
    "    model.add(Flatten())\n",
    "    model.add(Dense(10))\n",
    "    model.add(Activation('relu'))\n",
    "    model.add(Dropout(0.5))\n",
    "    model.add(Dense(2))\n",
    "    model.add(Activation('softmax'))\n",
    "\n",
    "    #model.summary()\n",
    "    #compile\n",
    "\n",
    "    #sgd = optimizers.SGD(lr=0.01, decay=1e-6, momentum=0.9, nesterov=True)\n",
    "\n",
    "    #model.compile(optimizer='adam',\n",
    "    #              loss='sparse_categorical_crossentropy',\n",
    "    #              metrics=['accuracy'])\n",
    "\n",
    "\n",
    "\n",
    "    sgd = optimizers.SGD(lr=0.01)   #Stochastic gradient descent optimizer\n",
    "    loss_cce = losses.sparse_categorical_crossentropy   #sparse categorical crossentropy\n",
    "\n",
    "    model.compile(optimizer=sgd,\n",
    "                  loss=loss_cce,\n",
    "                  metrics=['accuracy'])\n",
    "    return model"
   ]
  },
  {
   "cell_type": "code",
   "execution_count": 15,
   "metadata": {},
   "outputs": [
    {
     "name": "stdout",
     "output_type": "stream",
     "text": [
      "WARNING:tensorflow:From /home/endredra/anaconda3/lib/python3.7/site-packages/keras/backend/tensorflow_backend.py:68: The name tf.get_default_graph is deprecated. Please use tf.compat.v1.get_default_graph instead.\n",
      "\n",
      "WARNING:tensorflow:From /home/endredra/anaconda3/lib/python3.7/site-packages/keras/backend/tensorflow_backend.py:504: The name tf.placeholder is deprecated. Please use tf.compat.v1.placeholder instead.\n",
      "\n",
      "WARNING:tensorflow:From /home/endredra/anaconda3/lib/python3.7/site-packages/keras/backend/tensorflow_backend.py:3828: The name tf.random_uniform is deprecated. Please use tf.random.uniform instead.\n",
      "\n",
      "WARNING:tensorflow:From /home/endredra/anaconda3/lib/python3.7/site-packages/keras/backend/tensorflow_backend.py:3652: The name tf.nn.max_pool is deprecated. Please use tf.nn.max_pool2d instead.\n",
      "\n",
      "WARNING:tensorflow:From /home/endredra/anaconda3/lib/python3.7/site-packages/keras/backend/tensorflow_backend.py:126: The name tf.placeholder_with_default is deprecated. Please use tf.compat.v1.placeholder_with_default instead.\n",
      "\n",
      "WARNING:tensorflow:From /home/endredra/anaconda3/lib/python3.7/site-packages/keras/backend/tensorflow_backend.py:3135: calling dropout (from tensorflow.python.ops.nn_ops) with keep_prob is deprecated and will be removed in a future version.\n",
      "Instructions for updating:\n",
      "Please use `rate` instead of `keep_prob`. Rate should be set to `rate = 1 - keep_prob`.\n",
      "WARNING:tensorflow:From /home/endredra/anaconda3/lib/python3.7/site-packages/keras/optimizers.py:744: The name tf.train.Optimizer is deprecated. Please use tf.compat.v1.train.Optimizer instead.\n",
      "\n",
      "WARNING:tensorflow:From /home/endredra/anaconda3/lib/python3.7/site-packages/keras/backend/tensorflow_backend.py:3031: The name tf.log is deprecated. Please use tf.math.log instead.\n",
      "\n"
     ]
    }
   ],
   "source": [
    "model=CNN_model()"
   ]
  },
  {
   "cell_type": "code",
   "execution_count": 16,
   "metadata": {},
   "outputs": [
    {
     "name": "stdout",
     "output_type": "stream",
     "text": [
      "_________________________________________________________________\n",
      "Layer (type)                 Output Shape              Param #   \n",
      "=================================================================\n",
      "conv2d_1 (Conv2D)            (None, 21, 21, 8)         80        \n",
      "_________________________________________________________________\n",
      "max_pooling2d_1 (MaxPooling2 (None, 10, 10, 8)         0         \n",
      "_________________________________________________________________\n",
      "flatten_1 (Flatten)          (None, 800)               0         \n",
      "_________________________________________________________________\n",
      "dense_1 (Dense)              (None, 10)                8010      \n",
      "_________________________________________________________________\n",
      "activation_1 (Activation)    (None, 10)                0         \n",
      "_________________________________________________________________\n",
      "dropout_1 (Dropout)          (None, 10)                0         \n",
      "_________________________________________________________________\n",
      "dense_2 (Dense)              (None, 2)                 22        \n",
      "_________________________________________________________________\n",
      "activation_2 (Activation)    (None, 2)                 0         \n",
      "=================================================================\n",
      "Total params: 8,112\n",
      "Trainable params: 8,112\n",
      "Non-trainable params: 0\n",
      "_________________________________________________________________\n"
     ]
    }
   ],
   "source": [
    "model.summary()"
   ]
  },
  {
   "cell_type": "code",
   "execution_count": 17,
   "metadata": {},
   "outputs": [
    {
     "name": "stdout",
     "output_type": "stream",
     "text": [
      "WARNING:tensorflow:From /home/endredra/anaconda3/lib/python3.7/site-packages/tensorflow/python/ops/math_grad.py:1250: add_dispatch_support.<locals>.wrapper (from tensorflow.python.ops.array_ops) is deprecated and will be removed in a future version.\n",
      "Instructions for updating:\n",
      "Use tf.where in 2.0, which has the same broadcast rule as np.where\n",
      "Train on 56250 samples, validate on 18750 samples\n",
      "Epoch 1/5\n",
      "56250/56250 [==============================] - 24s 428us/step - loss: 0.2956 - acc: 0.8791 - val_loss: 0.1592 - val_acc: 0.9419\n",
      "Epoch 2/5\n",
      "56250/56250 [==============================] - 23s 411us/step - loss: 0.2031 - acc: 0.9273 - val_loss: 0.1488 - val_acc: 0.9455\n",
      "Epoch 3/5\n",
      "56250/56250 [==============================] - 23s 407us/step - loss: 0.1940 - acc: 0.9298 - val_loss: 0.1420 - val_acc: 0.9487\n",
      "Epoch 4/5\n",
      "56250/56250 [==============================] - 23s 414us/step - loss: 0.1901 - acc: 0.9308 - val_loss: 0.1384 - val_acc: 0.9514\n",
      "Epoch 5/5\n",
      "56250/56250 [==============================] - 24s 421us/step - loss: 0.1843 - acc: 0.9344 - val_loss: 0.1424 - val_acc: 0.9535\n",
      "Epoch 00005: early stopping\n"
     ]
    }
   ],
   "source": [
    "#entrenar\n",
    "epocas=5\n",
    "batch=10\n",
    "\n",
    "es = EarlyStopping(monitor='val_loss', mode='min', verbose=1)\n",
    "\n",
    "history = model.fit(r_x_train, y_train, validation_split=0.25, batch_size=batch, epochs=epocas,callbacks=[es]) #[tensorboard_callback])\n",
    "\n",
    "\n"
   ]
  },
  {
   "cell_type": "code",
   "execution_count": 18,
   "metadata": {},
   "outputs": [
    {
     "name": "stdout",
     "output_type": "stream",
     "text": [
      "25000/25000 [==============================] - 2s 72us/step\n",
      "\n",
      "\n",
      "Loss: 14.019299599766732 %\n",
      "\n",
      "\n",
      "Accuracy: 95.56 %\n",
      "\n",
      "\n"
     ]
    }
   ],
   "source": [
    "val_loss, val_acc = model.evaluate(r_x_test, y_test)\n",
    "print('\\n\\nLoss:', val_loss*100,'%\\n\\n')\n",
    "print('Accuracy:', val_acc*100,'%\\n\\n')"
   ]
  },
  {
   "cell_type": "code",
   "execution_count": 19,
   "metadata": {},
   "outputs": [],
   "source": [
    "model.save('super_nova_class.model')"
   ]
  },
  {
   "cell_type": "code",
   "execution_count": 20,
   "metadata": {},
   "outputs": [],
   "source": [
    "new_model = load_model('super_nova_class.model')"
   ]
  },
  {
   "cell_type": "code",
   "execution_count": 21,
   "metadata": {},
   "outputs": [
    {
     "name": "stdout",
     "output_type": "stream",
     "text": [
      "[[1.0638856e-01 8.9361137e-01]\n",
      " [1.8775238e-02 9.8122472e-01]\n",
      " [9.0313226e-02 9.0968674e-01]\n",
      " ...\n",
      " [9.9944657e-01 5.5343553e-04]\n",
      " [9.9973518e-01 2.6475705e-04]\n",
      " [9.9998331e-01 1.6663398e-05]]\n"
     ]
    }
   ],
   "source": [
    "predictions_t = new_model.predict(r_x_test, batch_size=batch)\n",
    "print(predictions_t)"
   ]
  },
  {
   "cell_type": "code",
   "execution_count": 22,
   "metadata": {},
   "outputs": [
    {
     "name": "stdout",
     "output_type": "stream",
     "text": [
      "prediction:  1  -----  true class:  1\n",
      "prediction:  1  -----  true class:  1\n",
      "prediction:  1  -----  true class:  1\n",
      "prediction:  1  -----  true class:  0\n",
      "prediction:  0  -----  true class:  0\n",
      "prediction:  1  -----  true class:  1\n",
      "prediction:  1  -----  true class:  1\n",
      "prediction:  0  -----  true class:  0\n",
      "prediction:  0  -----  true class:  0\n",
      "prediction:  0  -----  true class:  0\n",
      "prediction:  1  -----  true class:  1\n",
      "prediction:  1  -----  true class:  1\n",
      "prediction:  0  -----  true class:  0\n",
      "prediction:  1  -----  true class:  1\n",
      "prediction:  0  -----  true class:  0\n",
      "prediction:  1  -----  true class:  1\n",
      "prediction:  0  -----  true class:  0\n",
      "prediction:  1  -----  true class:  1\n",
      "prediction:  0  -----  true class:  0\n",
      "prediction:  0  -----  true class:  0\n"
     ]
    }
   ],
   "source": [
    "for i in range(20):\n",
    "    print('prediction: ',np.argmax(predictions_t[i]), ' -----  true class: ', y_test[i])\n",
    "    "
   ]
  },
  {
   "cell_type": "code",
   "execution_count": 23,
   "metadata": {},
   "outputs": [
    {
     "name": "stdout",
     "output_type": "stream",
     "text": [
      "predict  [1 1 1 1 0 1 1 0 0 0 1 1 0 1 0 1 0 1 0 0 1 0 1 0 0 0 1 1 0 0]\n",
      "class:   [1 1 1 0 0 1 1 0 0 0 1 1 0 1 0 1 0 1 0 0 1 0 1 0 0 0 1 1 0 0]\n"
     ]
    }
   ],
   "source": [
    "Samples=30\n",
    "\n",
    "# Predict on the first 5 test images.\n",
    "predictions = model.predict(r_x_test[:Samples], batch_size=batch)\n",
    "\n",
    "\n",
    "#r=range(Samples)\n",
    "#l = [*r]\n",
    "#print (l[:Samples])\n",
    "\n",
    "# Print our model's predictions.\n",
    "print('predict ', np.argmax(predictions, axis=1)) \n",
    "\n",
    "# Check our predictions against the ground truths.\n",
    "print('class:  ', y_test[:Samples])\n",
    "\n"
   ]
  },
  {
   "cell_type": "code",
   "execution_count": 24,
   "metadata": {},
   "outputs": [
    {
     "data": {
      "image/png": "[encoded data removed]",
      "text/plain": [
       "<Figure size 432x288 with 1 Axes>"
      ]
     },
     "metadata": {
      "needs_background": "light"
     },
     "output_type": "display_data"
    },
    {
     "name": "stdout",
     "output_type": "stream",
     "text": [
      " imagem: 3 ----- tipo: 3 ----- class: 0 ----- prediction: 1 \n"
     ]
    }
   ],
   "source": [
    "%matplotlib inline\n",
    "index_img=3\n",
    "plt.figure(\"imagem: {} , tipo: {} , class: {}\".format(index_img, tipo, y_test[index_img]))\n",
    "plt.imshow(x_test[0])#,cmap=plt.cm.binary)\n",
    "\n",
    "\n",
    "plt.show()\n",
    "print(\" imagem: {} ----- tipo: {} ----- class: {} ----- prediction: {} \".format(index_img, tipo, y_test[index_img], np.argmax(predictions[index_img])))\n"
   ]
  },
  {
   "cell_type": "code",
   "execution_count": 25,
   "metadata": {},
   "outputs": [
    {
     "name": "stdout",
     "output_type": "stream",
     "text": [
      "prediction test:  [[0.42214358 0.57785636]]\n",
      "prediction class test:  1 percentage:  57.79 %\n",
      "errou!\n"
     ]
    }
   ],
   "source": [
    "imagene_index=3\n",
    "\n",
    "\n",
    "test_predict = model.predict(r_x_test[imagene_index:imagene_index+1], batch_size=batch)\n",
    "print('prediction test: ', test_predict)\n",
    "print('prediction class test: ', np.argmax(test_predict), 'percentage: ', \"%.2f\" % (test_predict[0][np.argmax(test_predict)]*100), '%')\n",
    "\n",
    "if(np.argmax(test_predict)==y_test[imagene_index]):\n",
    "    print('acertou!')\n",
    "else:\n",
    "    print('errou!')\n"
   ]
  },
  {
   "cell_type": "code",
   "execution_count": 26,
   "metadata": {},
   "outputs": [
    {
     "data": {
      "text/plain": [
       "(21, 21, 1)"
      ]
     },
     "execution_count": 26,
     "metadata": {},
     "output_type": "execute_result"
    }
   ],
   "source": [
    "r_x_train[0].shape"
   ]
  },
  {
   "cell_type": "code",
   "execution_count": 27,
   "metadata": {},
   "outputs": [
    {
     "data": {
      "text/plain": [
       "(21, 21)"
      ]
     },
     "execution_count": 27,
     "metadata": {},
     "output_type": "execute_result"
    }
   ],
   "source": [
    "x_train[0].shape"
   ]
  },
  {
   "cell_type": "code",
   "execution_count": 28,
   "metadata": {},
   "outputs": [
    {
     "name": "stdout",
     "output_type": "stream",
     "text": [
      "prediction test:  [[0.99819297 0.00180703]]\n",
      "\n",
      "\n",
      "\n",
      "prediction class test:  0 percentage:  99.82 %\n",
      "\n",
      "acertou!\n"
     ]
    }
   ],
   "source": [
    "imagene_index_t=0\n",
    "typ_im=1\n",
    "\n",
    "\n",
    "xx_test = example_dict['images'][:, :, :, typ_im]\n",
    "\n",
    "r_xx_test= np.expand_dims(xx_test, axis=3)\n",
    "\n",
    "test_predict_t = model.predict(r_xx_test[imagene_index_t:imagene_index_t+1])\n",
    "print('prediction test: ', test_predict_t)\n",
    "print('\\n\\n\\nprediction class test: ', np.argmax(test_predict_t), 'percentage: ', \"%.2f\" % (test_predict_t[0][np.argmax(test_predict_t)]*100), '%')\n",
    "print()\n",
    "if(np.argmax(test_predict)==y_test[imagene_index_t]):\n",
    "    print('acertou!')\n",
    "else:\n",
    "    print('errou!')\n"
   ]
  },
  {
   "cell_type": "code",
   "execution_count": 29,
   "metadata": {},
   "outputs": [
    {
     "name": "stdout",
     "output_type": "stream",
     "text": [
      "list:  dict_keys(['val_loss', 'val_acc', 'loss', 'acc'])\n",
      "loss:  [0.15916654363091415, 0.14876592624130813, 0.14199214974042454, 0.1383984930354481, 0.14238389417600703]\n"
     ]
    }
   ],
   "source": [
    "print('list: ',history.history.keys())\n",
    "print('loss: ',history.history['val_loss'])"
   ]
  },
  {
   "cell_type": "code",
   "execution_count": 30,
   "metadata": {},
   "outputs": [
    {
     "data": {
      "image/png": "[encoded data removed]",
      "text/plain": [
       "<Figure size 432x288 with 1 Axes>"
      ]
     },
     "metadata": {
      "needs_background": "light"
     },
     "output_type": "display_data"
    }
   ],
   "source": [
    "parametro='loss'\n",
    "\n",
    "x_axis = np.arange(1,len(history.history[parametro])+1,1)\n",
    "y_axis = history.history[parametro]\n",
    "\n",
    "plt.plot(x_axis,y_axis)\n",
    "plt.xlabel('epoch')\n",
    "plt.ylabel(parametro)\n",
    "plt.title(parametro)\n",
    "plt.show()"
   ]
  },
  {
   "cell_type": "code",
   "execution_count": 31,
   "metadata": {},
   "outputs": [
    {
     "name": "stdout",
     "output_type": "stream",
     "text": [
      "unos_train:  37509\n",
      "ceros_train:  37491\n",
      "percentage: 50.01 %\n",
      "\n",
      "\n",
      "\n",
      "\n",
      "unos_test:  12491\n",
      "ceros_test:  12509\n",
      "percentage: 49.96 %\n"
     ]
    }
   ],
   "source": [
    "unos_train=0\n",
    "ceros_train=0\n",
    "unos_test=0\n",
    "ceros_test=0\n",
    "\n",
    "for val_train in y_train:\n",
    "\n",
    "    if val_train==1:\n",
    "        unos_train+=1\n",
    "    else:\n",
    "        ceros_train+=1\n",
    "\n",
    "\n",
    "for val_test in y_test:\n",
    "\n",
    "    if val_test==1:\n",
    "        unos_test+=1\n",
    "    else:\n",
    "        ceros_test+=1    \n",
    "        \n",
    "print('unos_train: ', unos_train)\n",
    "print('ceros_train: ', ceros_train)\n",
    "print('percentage: %.2f' % (100*(unos_train/(unos_train+ceros_train))), '%')\n",
    "print('\\n\\n\\n')\n",
    "print('unos_test: ', unos_test)\n",
    "print('ceros_test: ', ceros_test)\n",
    "print('percentage: %.2f' % (100*(unos_test/(unos_test+ceros_test))),'%')"
   ]
  },
  {
   "cell_type": "code",
   "execution_count": 32,
   "metadata": {},
   "outputs": [
    {
     "name": "stdout",
     "output_type": "stream",
     "text": [
      "y_test:  (25000,)\n",
      "np.argmax(predictions, axis=1) (25000,)\n",
      "[[0 0]\n",
      " [0 0]]\n",
      "[[12072   419]\n",
      " [  691 11818]]\n"
     ]
    }
   ],
   "source": [
    "print('y_test: ', y_test.shape)\n",
    "print('np.argmax(predictions, axis=1)', np.argmax(predictions_t, axis=1).shape)\n",
    "test_labels=y_test\n",
    "rounded_predictions= model.predict_classes(r_x_test, batch_size=batch)\n",
    "\n",
    "\n",
    "cm= confusion_matrix(test_labels, rounded_predictions)\n",
    "\n",
    "cm_2= np.zeros((2,2), dtype=int)\n",
    "print(cm_2)\n",
    "cm_2[0,0]=cm[1,1]\n",
    "cm_2[1,1]=cm[0,0]\n",
    "cm_2[1,0]=cm[0,1]\n",
    "cm_2[0,1]=cm[1,0]\n",
    "print(cm_2)\n",
    "\n",
    "cm=cm_2\n"
   ]
  },
  {
   "cell_type": "code",
   "execution_count": 33,
   "metadata": {},
   "outputs": [],
   "source": [
    "def plot_confusion_matrix(cm, classes, \n",
    "                          normalize=False, \n",
    "                          title='Confusion Matrix',\n",
    "                          cmap=plt.cm.Blues):\n",
    "    '''\n",
    "    This function prints and plots the confusion matix.\n",
    "    Normalize can be applied by setting 'normalize=True'\n",
    "    '''\n",
    "    plt.imshow(cm, interpolation='nearest', cmap=cmap)\n",
    "    plt.title(title)\n",
    "    plt.colorbar()\n",
    "    tick_marks=np.arange(len(classes))\n",
    "    plt.xticks(tick_marks, classes, rotation=45)\n",
    "    plt.yticks(tick_marks, classes)\n",
    "    \n",
    "    if normalize:\n",
    "        cm= cm.astype('float') / cm.sum(axis-1)[:, np.newaxis]\n",
    "        print('Normalized Confusion Matrix')\n",
    "    else:\n",
    "        print('Confusion Matrix, without normalization')\n",
    "        \n",
    "        \n",
    "    print(cm)\n",
    "\n",
    "    thresh = cm.max()/2\n",
    "    for i,j in itertools.product(range(cm.shape[0]), range(cm.shape[1])):\n",
    "        plt.text(j,i,cm[i,j], \n",
    "                 horizontalalignment = 'center', \n",
    "                 color = 'white' if cm[i,j] > thresh else 'black')\n",
    "\n",
    "    plt.tight_layout()\n",
    "    plt.ylabel('True label')\n",
    "    plt.xlabel('Predicted label')"
   ]
  },
  {
   "cell_type": "code",
   "execution_count": 34,
   "metadata": {},
   "outputs": [
    {
     "name": "stdout",
     "output_type": "stream",
     "text": [
      "Confusion Matrix, without normalization\n",
      "[[12072   419]\n",
      " [  691 11818]]\n"
     ]
    },
    {
     "data": {
      "image/png": "[encoded data removed]",
      "text/plain": [
       "<Figure size 432x288 with 2 Axes>"
      ]
     },
     "metadata": {
      "needs_background": "light"
     },
     "output_type": "display_data"
    }
   ],
   "source": [
    "cm_plot_labels = ['super_nova','no_super_nova']\n",
    "plot_confusion_matrix(cm,cm_plot_labels, title = ' Confusion Matrix')\n",
    "\n"
   ]
  },
  {
   "cell_type": "code",
   "execution_count": 35,
   "metadata": {},
   "outputs": [
    {
     "name": "stdout",
     "output_type": "stream",
     "text": [
      "       ESTADISTICAS      \n",
      "\n",
      "Valor máximo : 1.0\n",
      "Valor mínimo : 0.0\n",
      "Valor promedio : 0.43186674\n",
      "Valor varianza : 0.040720943\n",
      "Valor desviación standar : 0.20179431\n"
     ]
    }
   ],
   "source": [
    "print('       ESTADISTICAS      \\n')\n",
    "print('Valor máximo :', x_train.max())\n",
    "print('Valor mínimo :', x_train.min())\n",
    "print('Valor promedio :', x_train.mean())\n",
    "print('Valor varianza :', x_train.var())\n",
    "print('Valor desviación standar :', x_train.std())"
   ]
  },
  {
   "cell_type": "code",
   "execution_count": 36,
   "metadata": {},
   "outputs": [
    {
     "data": {
      "image/png": "[encoded data removed]",
      "text/plain": [
       "<Figure size 432x288 with 4 Axes>"
      ]
     },
     "metadata": {
      "needs_background": "light"
     },
     "output_type": "display_data"
    }
   ],
   "source": [
    "indeximage=4\n",
    "\n",
    "for i in range(4):\n",
    "    plt.subplot(1, 4, i+1)\n",
    "    ximg=example_dict['images'][:,:,:,i]\n",
    "    plt.imshow(ximg[indeximage])\n",
    "    plt.axis('off')\n",
    "\n",
    "plt.show()\n"
   ]
  },
  {
   "cell_type": "code",
   "execution_count": 37,
   "metadata": {
    "scrolled": true
   },
   "outputs": [
    {
     "data": {
      "text/plain": [
       "ERROR: Failed to launch TensorBoard (exited with 1).\n",
       "Contents of stderr:\n",
       "Traceback (most recent call last):\n",
       "  File \"/home/endredra/anaconda3/bin/tensorboard\", line 11, in <module>\n",
       "    sys.exit(run_main())\n",
       "  File \"/home/endredra/anaconda3/lib/python3.7/site-packages/tensorboard/main.py\", line 64, in run_main\n",
       "    app.run(tensorboard.main, flags_parser=tensorboard.configure)\n",
       "  File \"/home/endredra/anaconda3/lib/python3.7/site-packages/absl/app.py\", line 299, in run\n",
       "    _run_main(main, args)\n",
       "  File \"/home/endredra/anaconda3/lib/python3.7/site-packages/absl/app.py\", line 250, in _run_main\n",
       "    sys.exit(main(argv))\n",
       "  File \"/home/endredra/anaconda3/lib/python3.7/site-packages/tensorboard/program.py\", line 228, in main\n",
       "    server = self._make_server()\n",
       "  File \"/home/endredra/anaconda3/lib/python3.7/site-packages/tensorboard/program.py\", line 309, in _make_server\n",
       "    self.assets_zip_provider)\n",
       "  File \"/home/endredra/anaconda3/lib/python3.7/site-packages/tensorboard/backend/application.py\", line 161, in standard_tensorboard_wsgi\n",
       "    reload_task)\n",
       "  File \"/home/endredra/anaconda3/lib/python3.7/site-packages/tensorboard/backend/application.py\", line 194, in TensorBoardWSGIApp\n",
       "    return TensorBoardWSGI(plugins, path_prefix)\n",
       "  File \"/home/endredra/anaconda3/lib/python3.7/site-packages/tensorboard/backend/application.py\", line 245, in __init__\n",
       "    raise ValueError('Duplicate plugins for name %s' % plugin.plugin_name)\n",
       "ValueError: Duplicate plugins for name projector"
      ]
     },
     "metadata": {},
     "output_type": "display_data"
    }
   ],
   "source": [
    "%tensorboard --logdir logs/scalars"
   ]
  },
  {
   "cell_type": "code",
   "execution_count": 38,
   "metadata": {},
   "outputs": [
    {
     "name": "stdout",
     "output_type": "stream",
     "text": [
      "(1, 21, 21, 1)\n",
      "[[0.09031329 0.90968674]]\n"
     ]
    }
   ],
   "source": [
    "predictions_t = new_model.predict(r_x_test[2:3])\n",
    "print(r_x_test[2:3].shape)\n",
    "print(predictions_t)"
   ]
  },
  {
   "cell_type": "code",
   "execution_count": 39,
   "metadata": {},
   "outputs": [
    {
     "name": "stdout",
     "output_type": "stream",
     "text": [
      "(25000, 21, 21, 1)\n",
      "[0.09031332 0.9096866 ]\n"
     ]
    }
   ],
   "source": [
    "predictions_t = new_model.predict(r_x_test)\n",
    "print(r_x_test.shape)\n",
    "print(predictions_t[2])"
   ]
  },
  {
   "cell_type": "code",
   "execution_count": 40,
   "metadata": {},
   "outputs": [
    {
     "name": "stdout",
     "output_type": "stream",
     "text": [
      "(1, 21, 21, 1)\n",
      "1\n"
     ]
    }
   ],
   "source": [
    "predictions_t = new_model.predict(np.expand_dims(r_x_test[2], axis=0))\n",
    "print(np.expand_dims(r_x_train[2], axis=0).shape)\n",
    "print(np.argmax(predictions_t))"
   ]
  },
  {
   "cell_type": "code",
   "execution_count": null,
   "metadata": {},
   "outputs": [],
   "source": []
  }
 ],
 "metadata": {
  "kernelspec": {
   "display_name": "Python 3",
   "language": "python",
   "name": "python3"
  },
  "language_info": {
   "codemirror_mode": {
    "name": "ipython",
    "version": 3
   },
   "file_extension": ".py",
   "mimetype": "text/x-python",
   "name": "python",
   "nbconvert_exporter": "python",
   "pygments_lexer": "ipython3",
   "version": "3.7.3"
  }
 },
 "nbformat": 4,
 "nbformat_minor": 2
}
