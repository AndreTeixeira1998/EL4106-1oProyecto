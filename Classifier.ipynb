{
 "cells": [
  {
   "cell_type": "code",
   "execution_count": 1,
   "metadata": {},
   "outputs": [],
   "source": [
    "from __future__ import absolute_import\n",
    "from __future__ import division\n",
    "from __future__ import print_function\n",
    "\n",
    "from datetime import datetime\n",
    "from packaging import version"
   ]
  },
  {
   "cell_type": "code",
   "execution_count": 2,
   "metadata": {},
   "outputs": [
    {
     "name": "stderr",
     "output_type": "stream",
     "text": [
      "Using TensorFlow backend.\n"
     ]
    }
   ],
   "source": [
    "import tensorflow.keras as keras\n",
    "\n",
    "from keras.preprocessing.image import ImageDataGenerator\n",
    "from keras.models import Sequential\n",
    "from keras.layers import Conv2D, MaxPooling2D\n",
    "from keras.layers import Activation, Dropout, Flatten, Dense\n",
    "from keras import optimizers\n",
    "from keras import losses\n",
    "from keras.callbacks import EarlyStopping\n",
    "from keras import backend as K\n",
    "from keras.models import load_model"
   ]
  },
  {
   "cell_type": "code",
   "execution_count": 3,
   "metadata": {},
   "outputs": [
    {
     "name": "stdout",
     "output_type": "stream",
     "text": [
      "1.14.0\n"
     ]
    }
   ],
   "source": [
    "import tensorflow as tf\n",
    "\n",
    "print(tf.__version__)"
   ]
  },
  {
   "cell_type": "code",
   "execution_count": 4,
   "metadata": {},
   "outputs": [],
   "source": [
    "%load_ext tensorboard"
   ]
  },
  {
   "cell_type": "code",
   "execution_count": 5,
   "metadata": {},
   "outputs": [],
   "source": [
    "from sklearn.metrics import confusion_matrix\n",
    "import itertools"
   ]
  },
  {
   "cell_type": "code",
   "execution_count": 6,
   "metadata": {},
   "outputs": [
    {
     "name": "stdout",
     "output_type": "stream",
     "text": [
      "(100000,)\n",
      "(100000, 21, 21, 4)\n"
     ]
    }
   ],
   "source": [
    "import numpy as np\n",
    "import matplotlib.pyplot as plt\n",
    "import pickle\n",
    "\n",
    "samples= 5\n",
    "tipo = 3    # np.random.randint(4)\n",
    "index_image = np.random.randint(100000)  \n",
    "\n",
    "\n",
    "# ========== EXTRACCIÓN DE DATOS ==============\n",
    "archivo = open('./dataset/HiTS2013_100k_samples(4_channels)_images_labels.pkl',\"rb\")\n",
    "example_dict= pickle.load(archivo)\n",
    "print(example_dict['labels'].shape)\n",
    "print(example_dict['images'].shape)\n",
    "\n",
    "L=example_dict['labels'].shape[0] #numero total de imagenes"
   ]
  },
  {
   "cell_type": "code",
   "execution_count": 7,
   "metadata": {},
   "outputs": [
    {
     "name": "stdout",
     "output_type": "stream",
     "text": [
      "(100000, 27, 27, 4)\n"
     ]
    }
   ],
   "source": [
    "x_all=example_dict['images']\n",
    "x_all_padded=np.pad(x_all, ((0,0),(3,3), (3,3), (0, 0)), 'constant')\n",
    "print(x_all_padded.shape)"
   ]
  },
  {
   "cell_type": "code",
   "execution_count": 8,
   "metadata": {},
   "outputs": [
    {
     "name": "stdout",
     "output_type": "stream",
     "text": [
      "Dimension of images to train: (75000, 27, 27)\n",
      "Dimension of images to test: (25000, 27, 27)\n",
      "Number of images to train:  75000\n",
      "Number of images to test:  25000\n",
      "\n",
      "\n",
      "input_shape:  27 x 27\n"
     ]
    }
   ],
   "source": [
    "percentage_train=0.75\n",
    "\n",
    "percentage= int(percentage_train*L)\n",
    "#xx = example_dict['images'][:, :, :, tipo]\n",
    "xx = x_all_padded[:, :, :, tipo]\n",
    "yy= example_dict['labels']\n",
    "print('Dimension of images to train:',xx[:percentage].shape)\n",
    "print('Dimension of images to test:',xx[percentage:].shape)\n",
    "print('Number of images to train: ', yy[:percentage].shape[0])\n",
    "print('Number of images to test: ',yy[percentage:].shape[0])\n",
    "\n",
    "#database to train\n",
    "x_train=xx[:percentage]\n",
    "y_train=yy[:percentage]\n",
    "\n",
    "#database to test\n",
    "x_test=xx[percentage:]\n",
    "y_test=yy[percentage:]\n",
    "\n",
    "#input shape para las redes convolucionales\n",
    "input_shape1=x_test.shape[1]\n",
    "input_shape2=x_test.shape[2]\n",
    "print('\\n\\ninput_shape: ' , input_shape1, 'x', input_shape2)\n",
    "\n",
    "input_shape = (input_shape1, input_shape2, 1)"
   ]
  },
  {
   "cell_type": "code",
   "execution_count": 9,
   "metadata": {},
   "outputs": [
    {
     "name": "stdout",
     "output_type": "stream",
     "text": [
      "(75000, 21, 21, 4)\n",
      "(25000, 21, 21, 4)\n"
     ]
    }
   ],
   "source": [
    "x_train_all=x_all[:percentage]\n",
    "x_test_all=x_all[percentage:]\n",
    "print(x_train_all.shape)\n",
    "print(x_test_all.shape)"
   ]
  },
  {
   "cell_type": "code",
   "execution_count": 10,
   "metadata": {},
   "outputs": [
    {
     "data": {
      "image/png": "[encoded data removed]",
      "text/plain": [
       "<Figure size 432x288 with 1 Axes>"
      ]
     },
     "metadata": {
      "needs_background": "light"
     },
     "output_type": "display_data"
    }
   ],
   "source": [
    "%matplotlib inline\n",
    "plt.imshow(x_train[0])#,cmap=plt.cm.binary)\n",
    "plt.show()"
   ]
  },
  {
   "cell_type": "code",
   "execution_count": 11,
   "metadata": {},
   "outputs": [
    {
     "name": "stdout",
     "output_type": "stream",
     "text": [
      "falso:  0\n"
     ]
    }
   ],
   "source": [
    "print('falso: ', y_train[0])"
   ]
  },
  {
   "cell_type": "code",
   "execution_count": 12,
   "metadata": {},
   "outputs": [
    {
     "data": {
      "image/png": "[encoded data removed]",
      "text/plain": [
       "<Figure size 432x288 with 1 Axes>"
      ]
     },
     "metadata": {
      "needs_background": "light"
     },
     "output_type": "display_data"
    }
   ],
   "source": [
    "%matplotlib inline\n",
    "plt.imshow(x_train[4])#,cmap=plt.cm.binary)\n",
    "plt.show()"
   ]
  },
  {
   "cell_type": "code",
   "execution_count": 13,
   "metadata": {},
   "outputs": [
    {
     "name": "stdout",
     "output_type": "stream",
     "text": [
      "positivo:  1\n"
     ]
    }
   ],
   "source": [
    "print('positivo: ', y_train[4])"
   ]
  },
  {
   "cell_type": "code",
   "execution_count": 14,
   "metadata": {},
   "outputs": [
    {
     "name": "stdout",
     "output_type": "stream",
     "text": [
      "(75000, 27, 27, 1)\n",
      "(25000, 27, 27, 1)\n"
     ]
    }
   ],
   "source": [
    "# Reshape the images.\n",
    "r_x_train= np.expand_dims(x_train, axis=3)\n",
    "r_x_test = np.expand_dims(x_test, axis=3)\n",
    "print(r_x_train.shape)\n",
    "print(r_x_test.shape)"
   ]
  },
  {
   "cell_type": "code",
   "execution_count": 15,
   "metadata": {},
   "outputs": [],
   "source": [
    "############ modelo Conv Keras #################\n",
    "\n",
    "\n",
    "def CNN_model():\n",
    "\n",
    "\n",
    "#     model = Sequential([\n",
    "#       Conv2D(num_filters, filter_size, padding='same', input_shape=input_shape),\n",
    "#       MaxPooling2D(pool_size=pool_size),\n",
    "#     ])\n",
    "\n",
    "#     model.add(Flatten())\n",
    "#     model.add(Dense(10))\n",
    "#     model.add(Activation('relu'))\n",
    "#     model.add(Dropout(0.5))\n",
    "#     model.add(Dense(2))\n",
    "#     model.add(Activation('softmax'))\n",
    "\n",
    "    model = Sequential()\n",
    "    #conv\n",
    "    model.add(Conv2D(32, kernel_size=(4, 4), padding='same', strides=(1, 1),\n",
    "                     input_shape=input_shape))\n",
    "    #conv\n",
    "    model.add(Conv2D(32, kernel_size=(3, 3), padding='same', strides=(1, 1)))\n",
    "    #max-pool\n",
    "    model.add(MaxPooling2D(pool_size=(2, 2), strides=(2, 2)))\n",
    "    #conv\n",
    "    model.add(Conv2D(64, kernel_size=(3, 3), padding='same', strides=(1, 1)))\n",
    "    #conv\n",
    "    model.add(Conv2D(64, kernel_size=(3, 3), padding='same', strides=(1, 1)))\n",
    "    #conv\n",
    "    model.add(Conv2D(64, kernel_size=(3, 3), padding='same', strides=(1, 1)))              \n",
    "    #max-pool\n",
    "    model.add(MaxPooling2D(pool_size=(2, 2), strides=(2, 2)))\n",
    "\n",
    "    model.add(Flatten())\n",
    "    model.add(Dense(64))\n",
    "    model.add(Dense(64))\n",
    "    model.add(Dropout(0.5))\n",
    "\n",
    "    model.add(Dense(2))\n",
    "    model.add(Activation('softmax'))\n",
    "\n",
    "    adam=optimizers.Adam(lr=0.01, beta_1=0.9, beta_2=0.999, amsgrad=False) #Adam optimizer\n",
    "\n",
    "    loss_cce = losses.sparse_categorical_crossentropy   #sparse categorical crossentropy\n",
    "\n",
    "    model.compile(optimizer=adam,\n",
    "                  loss=loss_cce,\n",
    "                  metrics=['accuracy'])\n",
    "    return model"
   ]
  },
  {
   "cell_type": "code",
   "execution_count": 16,
   "metadata": {},
   "outputs": [
    {
     "name": "stdout",
     "output_type": "stream",
     "text": [
      "WARNING:tensorflow:From /home/endredra/anaconda3/lib/python3.7/site-packages/keras/backend/tensorflow_backend.py:68: The name tf.get_default_graph is deprecated. Please use tf.compat.v1.get_default_graph instead.\n",
      "\n",
      "WARNING:tensorflow:From /home/endredra/anaconda3/lib/python3.7/site-packages/keras/backend/tensorflow_backend.py:504: The name tf.placeholder is deprecated. Please use tf.compat.v1.placeholder instead.\n",
      "\n",
      "WARNING:tensorflow:From /home/endredra/anaconda3/lib/python3.7/site-packages/keras/backend/tensorflow_backend.py:3828: The name tf.random_uniform is deprecated. Please use tf.random.uniform instead.\n",
      "\n",
      "WARNING:tensorflow:From /home/endredra/anaconda3/lib/python3.7/site-packages/keras/backend/tensorflow_backend.py:3652: The name tf.nn.max_pool is deprecated. Please use tf.nn.max_pool2d instead.\n",
      "\n",
      "WARNING:tensorflow:From /home/endredra/anaconda3/lib/python3.7/site-packages/keras/backend/tensorflow_backend.py:126: The name tf.placeholder_with_default is deprecated. Please use tf.compat.v1.placeholder_with_default instead.\n",
      "\n",
      "WARNING:tensorflow:From /home/endredra/anaconda3/lib/python3.7/site-packages/keras/backend/tensorflow_backend.py:3135: calling dropout (from tensorflow.python.ops.nn_ops) with keep_prob is deprecated and will be removed in a future version.\n",
      "Instructions for updating:\n",
      "Please use `rate` instead of `keep_prob`. Rate should be set to `rate = 1 - keep_prob`.\n",
      "WARNING:tensorflow:From /home/endredra/anaconda3/lib/python3.7/site-packages/keras/optimizers.py:744: The name tf.train.Optimizer is deprecated. Please use tf.compat.v1.train.Optimizer instead.\n",
      "\n",
      "WARNING:tensorflow:From /home/endredra/anaconda3/lib/python3.7/site-packages/keras/backend/tensorflow_backend.py:3031: The name tf.log is deprecated. Please use tf.math.log instead.\n",
      "\n"
     ]
    }
   ],
   "source": [
    "model=CNN_model()"
   ]
  },
  {
   "cell_type": "code",
   "execution_count": 17,
   "metadata": {},
   "outputs": [
    {
     "name": "stdout",
     "output_type": "stream",
     "text": [
      "_________________________________________________________________\n",
      "Layer (type)                 Output Shape              Param #   \n",
      "=================================================================\n",
      "conv2d_1 (Conv2D)            (None, 27, 27, 32)        544       \n",
      "_________________________________________________________________\n",
      "conv2d_2 (Conv2D)            (None, 27, 27, 32)        9248      \n",
      "_________________________________________________________________\n",
      "max_pooling2d_1 (MaxPooling2 (None, 13, 13, 32)        0         \n",
      "_________________________________________________________________\n",
      "conv2d_3 (Conv2D)            (None, 13, 13, 64)        18496     \n",
      "_________________________________________________________________\n",
      "conv2d_4 (Conv2D)            (None, 13, 13, 64)        36928     \n",
      "_________________________________________________________________\n",
      "conv2d_5 (Conv2D)            (None, 13, 13, 64)        36928     \n",
      "_________________________________________________________________\n",
      "max_pooling2d_2 (MaxPooling2 (None, 6, 6, 64)          0         \n",
      "_________________________________________________________________\n",
      "flatten_1 (Flatten)          (None, 2304)              0         \n",
      "_________________________________________________________________\n",
      "dense_1 (Dense)              (None, 64)                147520    \n",
      "_________________________________________________________________\n",
      "dense_2 (Dense)              (None, 64)                4160      \n",
      "_________________________________________________________________\n",
      "dropout_1 (Dropout)          (None, 64)                0         \n",
      "_________________________________________________________________\n",
      "dense_3 (Dense)              (None, 2)                 130       \n",
      "_________________________________________________________________\n",
      "activation_1 (Activation)    (None, 2)                 0         \n",
      "=================================================================\n",
      "Total params: 253,954\n",
      "Trainable params: 253,954\n",
      "Non-trainable params: 0\n",
      "_________________________________________________________________\n"
     ]
    }
   ],
   "source": [
    "model.summary()"
   ]
  },
  {
   "cell_type": "code",
   "execution_count": 18,
   "metadata": {},
   "outputs": [
    {
     "name": "stdout",
     "output_type": "stream",
     "text": [
      "WARNING:tensorflow:From /home/endredra/anaconda3/lib/python3.7/site-packages/tensorflow/python/ops/math_grad.py:1250: add_dispatch_support.<locals>.wrapper (from tensorflow.python.ops.array_ops) is deprecated and will be removed in a future version.\n",
      "Instructions for updating:\n",
      "Use tf.where in 2.0, which has the same broadcast rule as np.where\n",
      "Train on 56250 samples, validate on 18750 samples\n",
      "Epoch 1/30\n",
      "56250/56250 [==============================] - 126s 2ms/step - loss: 0.1818 - acc: 0.9331 - val_loss: 0.1452 - val_acc: 0.9488\n",
      "Epoch 2/30\n",
      "56250/56250 [==============================] - 124s 2ms/step - loss: 0.1514 - acc: 0.9491 - val_loss: 0.1311 - val_acc: 0.9529\n",
      "Epoch 3/30\n",
      "56250/56250 [==============================] - 123s 2ms/step - loss: 0.1430 - acc: 0.9520 - val_loss: 0.1502 - val_acc: 0.9508\n",
      "Epoch 00003: early stopping\n"
     ]
    }
   ],
   "source": [
    "#entrenar\n",
    "epocas=30\n",
    "batch=10\n",
    "\n",
    "es = EarlyStopping(monitor='val_loss', mode='min', verbose=1)\n",
    "\n",
    "history = model.fit(r_x_train, y_train, validation_split=0.25, batch_size=batch, epochs=epocas,callbacks=[es]) #[tensorboard_callback])\n",
    "\n",
    "\n"
   ]
  },
  {
   "cell_type": "code",
   "execution_count": 19,
   "metadata": {},
   "outputs": [
    {
     "name": "stdout",
     "output_type": "stream",
     "text": [
      "\n",
      "\n",
      "Testing Accuracy y Loss...\n",
      "\n",
      "\n",
      "25000/25000 [==============================] - 12s 463us/step\n",
      "\n",
      "\n",
      "Loss: 15.536523574903608 %\n",
      "\n",
      "\n",
      "Accuracy: 94.93599999999999 %\n",
      "\n",
      "\n"
     ]
    }
   ],
   "source": [
    "print('\\n\\nTesting Accuracy y Loss...\\n\\n')\n",
    "\n",
    "val_loss, val_acc = model.evaluate(r_x_test, y_test)\n",
    "print('\\n\\nLoss:', val_loss*100,'%\\n\\n')\n",
    "print('Accuracy:', val_acc*100,'%\\n\\n')"
   ]
  },
  {
   "cell_type": "code",
   "execution_count": 20,
   "metadata": {},
   "outputs": [],
   "source": [
    "model.save('super_nova_class.model')"
   ]
  },
  {
   "cell_type": "code",
   "execution_count": 21,
   "metadata": {},
   "outputs": [],
   "source": [
    "new_model = load_model('super_nova_class.model')"
   ]
  },
  {
   "cell_type": "code",
   "execution_count": 22,
   "metadata": {},
   "outputs": [
    {
     "name": "stdout",
     "output_type": "stream",
     "text": [
      "[[1.5925469e-02 9.8407459e-01]\n",
      " [2.8153792e-05 9.9997187e-01]\n",
      " [4.2580771e-03 9.9574190e-01]\n",
      " ...\n",
      " [9.5774412e-01 4.2255815e-02]\n",
      " [9.9920279e-01 7.9719204e-04]\n",
      " [9.9808276e-01 1.9173103e-03]]\n"
     ]
    }
   ],
   "source": [
    "predictions_t = new_model.predict(r_x_test, batch_size=batch)\n",
    "print(predictions_t)"
   ]
  },
  {
   "cell_type": "code",
   "execution_count": 23,
   "metadata": {},
   "outputs": [
    {
     "name": "stdout",
     "output_type": "stream",
     "text": [
      "prediction:  1  -----  true class:  1\n",
      "prediction:  1  -----  true class:  1\n",
      "prediction:  1  -----  true class:  1\n",
      "prediction:  0  -----  true class:  0\n",
      "prediction:  1  -----  true class:  0\n",
      "prediction:  1  -----  true class:  1\n",
      "prediction:  1  -----  true class:  1\n",
      "prediction:  1  -----  true class:  0\n",
      "prediction:  0  -----  true class:  0\n",
      "prediction:  0  -----  true class:  0\n",
      "prediction:  1  -----  true class:  1\n",
      "prediction:  1  -----  true class:  1\n",
      "prediction:  0  -----  true class:  0\n",
      "prediction:  1  -----  true class:  1\n",
      "prediction:  0  -----  true class:  0\n",
      "prediction:  1  -----  true class:  1\n",
      "prediction:  0  -----  true class:  0\n",
      "prediction:  1  -----  true class:  1\n",
      "prediction:  0  -----  true class:  0\n",
      "prediction:  0  -----  true class:  0\n"
     ]
    }
   ],
   "source": [
    "for i in range(20):\n",
    "    print('prediction: ',np.argmax(predictions_t[i]), ' -----  true class: ', y_test[i])\n",
    "    "
   ]
  },
  {
   "cell_type": "code",
   "execution_count": 24,
   "metadata": {},
   "outputs": [
    {
     "name": "stdout",
     "output_type": "stream",
     "text": [
      "predict  [1 1 1 0 1 1 1 1 0 0 1 1 0 1 0 1 0 1 0 0 1 0 1 0 0 0 1 1 0 0]\n",
      "class:   [1 1 1 0 0 1 1 0 0 0 1 1 0 1 0 1 0 1 0 0 1 0 1 0 0 0 1 1 0 0]\n"
     ]
    }
   ],
   "source": [
    "Samples=30\n",
    "\n",
    "# Predict on the first 5 test images.\n",
    "predictions = model.predict(r_x_test[:Samples], batch_size=batch)\n",
    "\n",
    "\n",
    "#r=range(Samples)\n",
    "#l = [*r]\n",
    "#print (l[:Samples])\n",
    "\n",
    "# Print our model's predictions.\n",
    "print('predict ', np.argmax(predictions, axis=1)) \n",
    "\n",
    "# Check our predictions against the ground truths.\n",
    "print('class:  ', y_test[:Samples])\n",
    "\n"
   ]
  },
  {
   "cell_type": "code",
   "execution_count": 25,
   "metadata": {},
   "outputs": [
    {
     "data": {
      "image/png": "[encoded data removed]",
      "text/plain": [
       "<Figure size 432x288 with 1 Axes>"
      ]
     },
     "metadata": {
      "needs_background": "light"
     },
     "output_type": "display_data"
    },
    {
     "name": "stdout",
     "output_type": "stream",
     "text": [
      " imagem: 3 ----- tipo: 3 ----- class: 0 ----- prediction: 0 \n"
     ]
    }
   ],
   "source": [
    "%matplotlib inline\n",
    "index_img=3\n",
    "plt.figure(\"imagem: {} , tipo: {} , class: {}\".format(index_img, tipo, y_test[index_img]))\n",
    "plt.imshow(x_test[0])#,cmap=plt.cm.binary)\n",
    "\n",
    "\n",
    "plt.show()\n",
    "print(\" imagem: {} ----- tipo: {} ----- class: {} ----- prediction: {} \".format(index_img, tipo, y_test[index_img], np.argmax(predictions[index_img])))\n"
   ]
  },
  {
   "cell_type": "code",
   "execution_count": 26,
   "metadata": {},
   "outputs": [
    {
     "name": "stdout",
     "output_type": "stream",
     "text": [
      "prediction test:  [[0.5800732  0.41992673]]\n",
      "prediction class test:  0 percentage:  58.01 %\n",
      "acertou!\n"
     ]
    }
   ],
   "source": [
    "imagene_index=3\n",
    "\n",
    "\n",
    "test_predict = model.predict(r_x_test[imagene_index:imagene_index+1], batch_size=batch)\n",
    "print('prediction test: ', test_predict)\n",
    "print('prediction class test: ', np.argmax(test_predict), 'percentage: ', \"%.2f\" % (test_predict[0][np.argmax(test_predict)]*100), '%')\n",
    "\n",
    "if(np.argmax(test_predict)==y_test[imagene_index]):\n",
    "    print('acertou!')\n",
    "else:\n",
    "    print('errou!')\n"
   ]
  },
  {
   "cell_type": "code",
   "execution_count": 27,
   "metadata": {},
   "outputs": [
    {
     "data": {
      "text/plain": [
       "(27, 27, 1)"
      ]
     },
     "execution_count": 27,
     "metadata": {},
     "output_type": "execute_result"
    }
   ],
   "source": [
    "r_x_train[0].shape"
   ]
  },
  {
   "cell_type": "code",
   "execution_count": 28,
   "metadata": {},
   "outputs": [
    {
     "data": {
      "text/plain": [
       "(27, 27)"
      ]
     },
     "execution_count": 28,
     "metadata": {},
     "output_type": "execute_result"
    }
   ],
   "source": [
    "x_train[0].shape"
   ]
  },
  {
   "cell_type": "code",
   "execution_count": 29,
   "metadata": {},
   "outputs": [
    {
     "ename": "ValueError",
     "evalue": "Error when checking : expected conv2d_1_input to have shape (27, 27, 1) but got array with shape (21, 21, 1)",
     "output_type": "error",
     "traceback": [
      "\u001b[0;31m---------------------------------------------------------------------------\u001b[0m",
      "\u001b[0;31mValueError\u001b[0m                                Traceback (most recent call last)",
      "\u001b[0;32m<ipython-input-29-f84659bb1445>\u001b[0m in \u001b[0;36m<module>\u001b[0;34m\u001b[0m\n\u001b[1;32m      7\u001b[0m \u001b[0mr_xx_test\u001b[0m\u001b[0;34m=\u001b[0m \u001b[0mnp\u001b[0m\u001b[0;34m.\u001b[0m\u001b[0mexpand_dims\u001b[0m\u001b[0;34m(\u001b[0m\u001b[0mxx_test\u001b[0m\u001b[0;34m,\u001b[0m \u001b[0maxis\u001b[0m\u001b[0;34m=\u001b[0m\u001b[0;36m3\u001b[0m\u001b[0;34m)\u001b[0m\u001b[0;34m\u001b[0m\u001b[0;34m\u001b[0m\u001b[0m\n\u001b[1;32m      8\u001b[0m \u001b[0;34m\u001b[0m\u001b[0m\n\u001b[0;32m----> 9\u001b[0;31m \u001b[0mtest_predict_t\u001b[0m \u001b[0;34m=\u001b[0m \u001b[0mmodel\u001b[0m\u001b[0;34m.\u001b[0m\u001b[0mpredict\u001b[0m\u001b[0;34m(\u001b[0m\u001b[0mr_xx_test\u001b[0m\u001b[0;34m[\u001b[0m\u001b[0mimagene_index_t\u001b[0m\u001b[0;34m:\u001b[0m\u001b[0mimagene_index_t\u001b[0m\u001b[0;34m+\u001b[0m\u001b[0;36m1\u001b[0m\u001b[0;34m]\u001b[0m\u001b[0;34m)\u001b[0m\u001b[0;34m\u001b[0m\u001b[0;34m\u001b[0m\u001b[0m\n\u001b[0m\u001b[1;32m     10\u001b[0m \u001b[0mprint\u001b[0m\u001b[0;34m(\u001b[0m\u001b[0;34m'prediction test: '\u001b[0m\u001b[0;34m,\u001b[0m \u001b[0mtest_predict_t\u001b[0m\u001b[0;34m)\u001b[0m\u001b[0;34m\u001b[0m\u001b[0;34m\u001b[0m\u001b[0m\n\u001b[1;32m     11\u001b[0m \u001b[0mprint\u001b[0m\u001b[0;34m(\u001b[0m\u001b[0;34m'\\n\\n\\nprediction class test: '\u001b[0m\u001b[0;34m,\u001b[0m \u001b[0mnp\u001b[0m\u001b[0;34m.\u001b[0m\u001b[0margmax\u001b[0m\u001b[0;34m(\u001b[0m\u001b[0mtest_predict_t\u001b[0m\u001b[0;34m)\u001b[0m\u001b[0;34m,\u001b[0m \u001b[0;34m'percentage: '\u001b[0m\u001b[0;34m,\u001b[0m \u001b[0;34m\"%.2f\"\u001b[0m \u001b[0;34m%\u001b[0m \u001b[0;34m(\u001b[0m\u001b[0mtest_predict_t\u001b[0m\u001b[0;34m[\u001b[0m\u001b[0;36m0\u001b[0m\u001b[0;34m]\u001b[0m\u001b[0;34m[\u001b[0m\u001b[0mnp\u001b[0m\u001b[0;34m.\u001b[0m\u001b[0margmax\u001b[0m\u001b[0;34m(\u001b[0m\u001b[0mtest_predict_t\u001b[0m\u001b[0;34m)\u001b[0m\u001b[0;34m]\u001b[0m\u001b[0;34m*\u001b[0m\u001b[0;36m100\u001b[0m\u001b[0;34m)\u001b[0m\u001b[0;34m,\u001b[0m \u001b[0;34m'%'\u001b[0m\u001b[0;34m)\u001b[0m\u001b[0;34m\u001b[0m\u001b[0;34m\u001b[0m\u001b[0m\n",
      "\u001b[0;32m~/anaconda3/lib/python3.7/site-packages/keras/models.py\u001b[0m in \u001b[0;36mpredict\u001b[0;34m(self, x, batch_size, verbose, steps)\u001b[0m\n\u001b[1;32m   1025\u001b[0m             \u001b[0mself\u001b[0m\u001b[0;34m.\u001b[0m\u001b[0mbuild\u001b[0m\u001b[0;34m(\u001b[0m\u001b[0;34m)\u001b[0m\u001b[0;34m\u001b[0m\u001b[0;34m\u001b[0m\u001b[0m\n\u001b[1;32m   1026\u001b[0m         return self.model.predict(x, batch_size=batch_size, verbose=verbose,\n\u001b[0;32m-> 1027\u001b[0;31m                                   steps=steps)\n\u001b[0m\u001b[1;32m   1028\u001b[0m \u001b[0;34m\u001b[0m\u001b[0m\n\u001b[1;32m   1029\u001b[0m     \u001b[0;32mdef\u001b[0m \u001b[0mpredict_on_batch\u001b[0m\u001b[0;34m(\u001b[0m\u001b[0mself\u001b[0m\u001b[0;34m,\u001b[0m \u001b[0mx\u001b[0m\u001b[0;34m)\u001b[0m\u001b[0;34m:\u001b[0m\u001b[0;34m\u001b[0m\u001b[0;34m\u001b[0m\u001b[0m\n",
      "\u001b[0;32m~/anaconda3/lib/python3.7/site-packages/keras/engine/training.py\u001b[0m in \u001b[0;36mpredict\u001b[0;34m(self, x, batch_size, verbose, steps)\u001b[0m\n\u001b[1;32m   1780\u001b[0m         x = _standardize_input_data(x, self._feed_input_names,\n\u001b[1;32m   1781\u001b[0m                                     \u001b[0mself\u001b[0m\u001b[0;34m.\u001b[0m\u001b[0m_feed_input_shapes\u001b[0m\u001b[0;34m,\u001b[0m\u001b[0;34m\u001b[0m\u001b[0;34m\u001b[0m\u001b[0m\n\u001b[0;32m-> 1782\u001b[0;31m                                     check_batch_axis=False)\n\u001b[0m\u001b[1;32m   1783\u001b[0m         \u001b[0;32mif\u001b[0m \u001b[0mself\u001b[0m\u001b[0;34m.\u001b[0m\u001b[0mstateful\u001b[0m\u001b[0;34m:\u001b[0m\u001b[0;34m\u001b[0m\u001b[0;34m\u001b[0m\u001b[0m\n\u001b[1;32m   1784\u001b[0m             \u001b[0;32mif\u001b[0m \u001b[0mx\u001b[0m\u001b[0;34m[\u001b[0m\u001b[0;36m0\u001b[0m\u001b[0;34m]\u001b[0m\u001b[0;34m.\u001b[0m\u001b[0mshape\u001b[0m\u001b[0;34m[\u001b[0m\u001b[0;36m0\u001b[0m\u001b[0;34m]\u001b[0m \u001b[0;34m>\u001b[0m \u001b[0mbatch_size\u001b[0m \u001b[0;32mand\u001b[0m \u001b[0mx\u001b[0m\u001b[0;34m[\u001b[0m\u001b[0;36m0\u001b[0m\u001b[0;34m]\u001b[0m\u001b[0;34m.\u001b[0m\u001b[0mshape\u001b[0m\u001b[0;34m[\u001b[0m\u001b[0;36m0\u001b[0m\u001b[0;34m]\u001b[0m \u001b[0;34m%\u001b[0m \u001b[0mbatch_size\u001b[0m \u001b[0;34m!=\u001b[0m \u001b[0;36m0\u001b[0m\u001b[0;34m:\u001b[0m\u001b[0;34m\u001b[0m\u001b[0;34m\u001b[0m\u001b[0m\n",
      "\u001b[0;32m~/anaconda3/lib/python3.7/site-packages/keras/engine/training.py\u001b[0m in \u001b[0;36m_standardize_input_data\u001b[0;34m(data, names, shapes, check_batch_axis, exception_prefix)\u001b[0m\n\u001b[1;32m    118\u001b[0m                             \u001b[0;34m': expected '\u001b[0m \u001b[0;34m+\u001b[0m \u001b[0mnames\u001b[0m\u001b[0;34m[\u001b[0m\u001b[0mi\u001b[0m\u001b[0;34m]\u001b[0m \u001b[0;34m+\u001b[0m \u001b[0;34m' to have shape '\u001b[0m \u001b[0;34m+\u001b[0m\u001b[0;34m\u001b[0m\u001b[0;34m\u001b[0m\u001b[0m\n\u001b[1;32m    119\u001b[0m                             \u001b[0mstr\u001b[0m\u001b[0;34m(\u001b[0m\u001b[0mshape\u001b[0m\u001b[0;34m)\u001b[0m \u001b[0;34m+\u001b[0m \u001b[0;34m' but got array with shape '\u001b[0m \u001b[0;34m+\u001b[0m\u001b[0;34m\u001b[0m\u001b[0;34m\u001b[0m\u001b[0m\n\u001b[0;32m--> 120\u001b[0;31m                             str(data_shape))\n\u001b[0m\u001b[1;32m    121\u001b[0m     \u001b[0;32mreturn\u001b[0m \u001b[0mdata\u001b[0m\u001b[0;34m\u001b[0m\u001b[0;34m\u001b[0m\u001b[0m\n\u001b[1;32m    122\u001b[0m \u001b[0;34m\u001b[0m\u001b[0m\n",
      "\u001b[0;31mValueError\u001b[0m: Error when checking : expected conv2d_1_input to have shape (27, 27, 1) but got array with shape (21, 21, 1)"
     ]
    }
   ],
   "source": [
    "imagene_index_t=0\n",
    "typ_im=1\n",
    "\n",
    "\n",
    "xx_test = example_dict['images'][:, :, :, typ_im]\n",
    "\n",
    "r_xx_test= np.expand_dims(xx_test, axis=3)\n",
    "\n",
    "test_predict_t = model.predict(r_xx_test[imagene_index_t:imagene_index_t+1])\n",
    "print('prediction test: ', test_predict_t)\n",
    "print('\\n\\n\\nprediction class test: ', np.argmax(test_predict_t), 'percentage: ', \"%.2f\" % (test_predict_t[0][np.argmax(test_predict_t)]*100), '%')\n",
    "print()\n",
    "if(np.argmax(test_predict)==y_test[imagene_index_t]):\n",
    "    print('acertou!')\n",
    "else:\n",
    "    print('errou!')\n"
   ]
  },
  {
   "cell_type": "code",
   "execution_count": 30,
   "metadata": {},
   "outputs": [
    {
     "name": "stdout",
     "output_type": "stream",
     "text": [
      "list:  dict_keys(['val_loss', 'val_acc', 'loss', 'acc'])\n",
      "loss:  [0.14517915504003565, 0.13107756477698276, 0.15015153801203074]\n"
     ]
    }
   ],
   "source": [
    "print('list: ',history.history.keys())\n",
    "print('loss: ',history.history['val_loss'])"
   ]
  },
  {
   "cell_type": "code",
   "execution_count": 31,
   "metadata": {},
   "outputs": [
    {
     "data": {
      "image/png": "[encoded data removed]",
      "text/plain": [
       "<Figure size 432x288 with 1 Axes>"
      ]
     },
     "metadata": {
      "needs_background": "light"
     },
     "output_type": "display_data"
    }
   ],
   "source": [
    "parametro='acc'\n",
    "\n",
    "x_axis = np.arange(1,len(history.history[parametro])+1,1)\n",
    "y_axis = history.history[parametro]\n",
    "\n",
    "plt.plot(x_axis,y_axis)\n",
    "plt.xlabel('epoch')\n",
    "plt.ylabel(parametro)\n",
    "plt.title(parametro)\n",
    "plt.show()"
   ]
  },
  {
   "cell_type": "code",
   "execution_count": 32,
   "metadata": {},
   "outputs": [
    {
     "name": "stdout",
     "output_type": "stream",
     "text": [
      "unos_train:  37509\n",
      "ceros_train:  37491\n",
      "percentage: 50.01 %\n",
      "\n",
      "\n",
      "\n",
      "\n",
      "unos_test:  12491\n",
      "ceros_test:  12509\n",
      "percentage: 49.96 %\n"
     ]
    }
   ],
   "source": [
    "unos_train=0\n",
    "ceros_train=0\n",
    "unos_test=0\n",
    "ceros_test=0\n",
    "\n",
    "for val_train in y_train:\n",
    "\n",
    "    if val_train==1:\n",
    "        unos_train+=1\n",
    "    else:\n",
    "        ceros_train+=1\n",
    "\n",
    "\n",
    "for val_test in y_test:\n",
    "\n",
    "    if val_test==1:\n",
    "        unos_test+=1\n",
    "    else:\n",
    "        ceros_test+=1    \n",
    "        \n",
    "print('unos_train: ', unos_train)\n",
    "print('ceros_train: ', ceros_train)\n",
    "print('percentage: %.2f' % (100*(unos_train/(unos_train+ceros_train))), '%')\n",
    "print('\\n\\n\\n')\n",
    "print('unos_test: ', unos_test)\n",
    "print('ceros_test: ', ceros_test)\n",
    "print('percentage: %.2f' % (100*(unos_test/(unos_test+ceros_test))),'%')"
   ]
  },
  {
   "cell_type": "code",
   "execution_count": 33,
   "metadata": {},
   "outputs": [
    {
     "name": "stdout",
     "output_type": "stream",
     "text": [
      "y_test:  (25000,)\n",
      "np.argmax(predictions, axis=1) (25000,)\n",
      "[[0 0]\n",
      " [0 0]]\n",
      "[[12385   106]\n",
      " [ 1160 11349]]\n"
     ]
    }
   ],
   "source": [
    "print('y_test: ', y_test.shape)\n",
    "print('np.argmax(predictions, axis=1)', np.argmax(predictions_t, axis=1).shape)\n",
    "test_labels=y_test\n",
    "rounded_predictions= model.predict_classes(r_x_test, batch_size=batch)\n",
    "\n",
    "\n",
    "cm= confusion_matrix(test_labels, rounded_predictions)\n",
    "\n",
    "cm_2= np.zeros((2,2), dtype=int)\n",
    "print(cm_2)\n",
    "cm_2[0,0]=cm[1,1]\n",
    "cm_2[1,1]=cm[0,0]\n",
    "cm_2[1,0]=cm[0,1]\n",
    "cm_2[0,1]=cm[1,0]\n",
    "print(cm_2)\n",
    "\n",
    "cm=cm_2\n",
    "\n",
    "TP=cm_2[0,0]\n",
    "TN=cm_2[1,1]\n",
    "FP=cm_2[1,0]\n",
    "FN=cm_2[0,1]\n",
    "\n",
    "#print('[%d, %d]' % (TP, FN))\n",
    "#print('[%d, %d]' % (FP, TN))"
   ]
  },
  {
   "cell_type": "code",
   "execution_count": 34,
   "metadata": {},
   "outputs": [],
   "source": [
    "def plot_confusion_matrix(cm, classes, \n",
    "                          normalize=False, \n",
    "                          title='Confusion Matrix',\n",
    "                          cmap=plt.cm.Blues):\n",
    "    '''\n",
    "    This function prints and plots the confusion matix.\n",
    "    Normalize can be applied by setting 'normalize=True'\n",
    "    '''\n",
    "    plt.imshow(cm, interpolation='nearest', cmap=cmap)\n",
    "    plt.title(title)\n",
    "    plt.colorbar()\n",
    "    tick_marks=np.arange(len(classes))\n",
    "    plt.xticks(tick_marks, classes, rotation=45)\n",
    "    plt.yticks(tick_marks, classes)\n",
    "    \n",
    "    if normalize:\n",
    "        cm= cm.astype('float') / cm.sum(axis-1)[:, np.newaxis]\n",
    "        print('Normalized Confusion Matrix')\n",
    "    else:\n",
    "        print('Confusion Matrix, without normalization')\n",
    "        \n",
    "        \n",
    "    print(cm)\n",
    "\n",
    "    thresh = cm.max()/2\n",
    "    for i,j in itertools.product(range(cm.shape[0]), range(cm.shape[1])):\n",
    "        plt.text(j,i,cm[i,j], \n",
    "                 horizontalalignment = 'center', \n",
    "                 color = 'white' if cm[i,j] > thresh else 'black')\n",
    "\n",
    "    plt.tight_layout()\n",
    "    plt.ylabel('True label')\n",
    "    plt.xlabel('Predicted label')"
   ]
  },
  {
   "cell_type": "code",
   "execution_count": 35,
   "metadata": {},
   "outputs": [
    {
     "name": "stdout",
     "output_type": "stream",
     "text": [
      "Confusion Matrix, without normalization\n",
      "[[12385   106]\n",
      " [ 1160 11349]]\n"
     ]
    },
    {
     "data": {
      "image/png": "[encoded data removed]",
      "text/plain": [
       "<Figure size 432x288 with 2 Axes>"
      ]
     },
     "metadata": {
      "needs_background": "light"
     },
     "output_type": "display_data"
    }
   ],
   "source": [
    "cm_plot_labels = ['super_nova','no_super_nova']\n",
    "plot_confusion_matrix(cm,cm_plot_labels, title = ' Confusion Matrix')\n",
    "\n"
   ]
  },
  {
   "cell_type": "code",
   "execution_count": 36,
   "metadata": {},
   "outputs": [
    {
     "name": "stdout",
     "output_type": "stream",
     "text": [
      "       ESTADISTICAS      \n",
      "\n",
      "Valor máximo : 1.0\n",
      "Valor mínimo : 0.0\n",
      "Valor promedio : 0.26125285\n",
      "Valor varianza : 0.06920705\n",
      "Valor desviación standar : 0.26307234\n"
     ]
    }
   ],
   "source": [
    "print('       ESTADISTICAS      \\n')\n",
    "print('Valor máximo :', x_train.max())\n",
    "print('Valor mínimo :', x_train.min())\n",
    "print('Valor promedio :', x_train.mean())\n",
    "print('Valor varianza :', x_train.var())\n",
    "print('Valor desviación standar :', x_train.std())"
   ]
  },
  {
   "cell_type": "code",
   "execution_count": 37,
   "metadata": {},
   "outputs": [
    {
     "data": {
      "image/png": "[encoded data removed]",
      "text/plain": [
       "<Figure size 432x288 with 4 Axes>"
      ]
     },
     "metadata": {
      "needs_background": "light"
     },
     "output_type": "display_data"
    }
   ],
   "source": [
    "indeximage=4\n",
    "\n",
    "for i in range(4):\n",
    "    plt.subplot(1, 4, i+1)\n",
    "    ximg=example_dict['images'][:,:,:,i]\n",
    "    plt.imshow(ximg[indeximage])\n",
    "    plt.axis('off')\n",
    "\n",
    "plt.show()\n"
   ]
  },
  {
   "cell_type": "code",
   "execution_count": null,
   "metadata": {
    "scrolled": true
   },
   "outputs": [],
   "source": [
    "%tensorboard --logdir logs/scalars"
   ]
  },
  {
   "cell_type": "code",
   "execution_count": null,
   "metadata": {},
   "outputs": [],
   "source": [
    "predictions_t = new_model.predict(r_x_test[2:3])\n",
    "print(r_x_test[2:3].shape)\n",
    "print(predictions_t)"
   ]
  },
  {
   "cell_type": "code",
   "execution_count": null,
   "metadata": {},
   "outputs": [],
   "source": [
    "predictions_t = new_model.predict(r_x_test)\n",
    "print(r_x_test.shape)\n",
    "print(predictions_t[2])"
   ]
  },
  {
   "cell_type": "code",
   "execution_count": null,
   "metadata": {},
   "outputs": [],
   "source": [
    "predictions_t = new_model.predict(np.expand_dims(r_x_test[2], axis=0))\n",
    "print(np.expand_dims(r_x_train[2], axis=0).shape)\n",
    "print(np.argmax(predictions_t))"
   ]
  },
  {
   "cell_type": "code",
   "execution_count": null,
   "metadata": {},
   "outputs": [],
   "source": []
  }
 ],
 "metadata": {
  "kernelspec": {
   "display_name": "Python 3",
   "language": "python",
   "name": "python3"
  },
  "language_info": {
   "codemirror_mode": {
    "name": "ipython",
    "version": 3
   },
   "file_extension": ".py",
   "mimetype": "text/x-python",
   "name": "python",
   "nbconvert_exporter": "python",
   "pygments_lexer": "ipython3",
   "version": "3.7.3"
  }
 },
 "nbformat": 4,
 "nbformat_minor": 2
}
